{
 "cells": [
  {
   "cell_type": "code",
   "execution_count": 13,
   "id": "tUFkeK7tL_pC",
   "metadata": {
    "colab": {
     "base_uri": "https://localhost:8080/"
    },
    "id": "tUFkeK7tL_pC",
    "outputId": "b165550d-8653-4f12-fdd0-48cb1c66f79e"
   },
   "outputs": [
    {
     "name": "stdout",
     "output_type": "stream",
     "text": [
      "Requirement already satisfied: kaggle in c:\\users\\paulj\\appdata\\local\\programs\\python\\python39\\lib\\site-packages (1.6.0)\n",
      "Requirement already satisfied: six>=1.10 in c:\\users\\paulj\\appdata\\local\\programs\\python\\python39\\lib\\site-packages (from kaggle) (1.16.0)\n",
      "Requirement already satisfied: certifi in c:\\users\\paulj\\appdata\\local\\programs\\python\\python39\\lib\\site-packages (from kaggle) (2023.11.17)\n",
      "Requirement already satisfied: python-dateutil in c:\\users\\paulj\\appdata\\local\\programs\\python\\python39\\lib\\site-packages (from kaggle) (2.8.2)\n",
      "Requirement already satisfied: requests in c:\\users\\paulj\\appdata\\local\\programs\\python\\python39\\lib\\site-packages (from kaggle) (2.31.0)\n",
      "Requirement already satisfied: tqdm in c:\\users\\paulj\\appdata\\local\\programs\\python\\python39\\lib\\site-packages (from kaggle) (4.66.1)\n",
      "Requirement already satisfied: python-slugify in c:\\users\\paulj\\appdata\\local\\programs\\python\\python39\\lib\\site-packages (from kaggle) (8.0.1)\n",
      "Requirement already satisfied: urllib3 in c:\\users\\paulj\\appdata\\local\\programs\\python\\python39\\lib\\site-packages (from kaggle) (2.1.0)\n",
      "Requirement already satisfied: bleach in c:\\users\\paulj\\appdata\\local\\programs\\python\\python39\\lib\\site-packages (from kaggle) (6.1.0)\n",
      "Requirement already satisfied: webencodings in c:\\users\\paulj\\appdata\\local\\programs\\python\\python39\\lib\\site-packages (from bleach->kaggle) (0.5.1)\n",
      "Requirement already satisfied: text-unidecode>=1.3 in c:\\users\\paulj\\appdata\\local\\programs\\python\\python39\\lib\\site-packages (from python-slugify->kaggle) (1.3)\n",
      "Requirement already satisfied: charset-normalizer<4,>=2 in c:\\users\\paulj\\appdata\\local\\programs\\python\\python39\\lib\\site-packages (from requests->kaggle) (3.3.2)\n",
      "Requirement already satisfied: idna<4,>=2.5 in c:\\users\\paulj\\appdata\\local\\programs\\python\\python39\\lib\\site-packages (from requests->kaggle) (3.6)\n",
      "Requirement already satisfied: colorama in c:\\users\\paulj\\appdata\\local\\programs\\python\\python39\\lib\\site-packages (from tqdm->kaggle) (0.4.6)\n"
     ]
    }
   ],
   "source": [
    "!pip install kaggle\n",
    "import os"
   ]
  },
  {
   "cell_type": "code",
   "execution_count": null,
   "id": "PL3uszavL7Yo",
   "metadata": {
    "colab": {
     "base_uri": "https://localhost:8080/"
    },
    "id": "PL3uszavL7Yo",
    "outputId": "8c589680-491e-4dcb-c12f-4718b1da9c19"
   },
   "outputs": [],
   "source": []
  },
  {
   "cell_type": "code",
   "execution_count": null,
   "id": "iXbnWZzNN4Is",
   "metadata": {
    "colab": {
     "base_uri": "https://localhost:8080/"
    },
    "id": "iXbnWZzNN4Is",
    "outputId": "d0f14a2c-6ec7-45d6-ac0d-633f0f8dae22"
   },
   "outputs": [],
   "source": []
  },
  {
   "cell_type": "code",
   "execution_count": 14,
   "id": "ybT8bI61N7fm",
   "metadata": {
    "id": "ybT8bI61N7fm"
   },
   "outputs": [],
   "source": [
    "import pandas as pd\n",
    "d = pd.read_csv('stock_data.csv')\n"
   ]
  },
  {
   "cell_type": "code",
   "execution_count": 15,
   "id": "043645ff-8ee3-4ec3-bd9e-19541965dc07",
   "metadata": {},
   "outputs": [
    {
     "name": "stdout",
     "output_type": "stream",
     "text": [
      "Collecting seaborn\n",
      "  Downloading seaborn-0.13.1-py3-none-any.whl.metadata (5.4 kB)\n",
      "Requirement already satisfied: numpy!=1.24.0,>=1.20 in c:\\users\\paulj\\appdata\\local\\programs\\python\\python39\\lib\\site-packages (from seaborn) (1.26.2)\n",
      "Requirement already satisfied: pandas>=1.2 in c:\\users\\paulj\\appdata\\local\\programs\\python\\python39\\lib\\site-packages (from seaborn) (2.1.4)\n",
      "Requirement already satisfied: matplotlib!=3.6.1,>=3.4 in c:\\users\\paulj\\appdata\\local\\programs\\python\\python39\\lib\\site-packages (from seaborn) (3.8.2)\n",
      "Requirement already satisfied: contourpy>=1.0.1 in c:\\users\\paulj\\appdata\\local\\programs\\python\\python39\\lib\\site-packages (from matplotlib!=3.6.1,>=3.4->seaborn) (1.2.0)\n",
      "Requirement already satisfied: cycler>=0.10 in c:\\users\\paulj\\appdata\\local\\programs\\python\\python39\\lib\\site-packages (from matplotlib!=3.6.1,>=3.4->seaborn) (0.12.1)\n",
      "Requirement already satisfied: fonttools>=4.22.0 in c:\\users\\paulj\\appdata\\local\\programs\\python\\python39\\lib\\site-packages (from matplotlib!=3.6.1,>=3.4->seaborn) (4.47.0)\n",
      "Requirement already satisfied: kiwisolver>=1.3.1 in c:\\users\\paulj\\appdata\\local\\programs\\python\\python39\\lib\\site-packages (from matplotlib!=3.6.1,>=3.4->seaborn) (1.4.5)\n",
      "Requirement already satisfied: packaging>=20.0 in c:\\users\\paulj\\appdata\\local\\programs\\python\\python39\\lib\\site-packages (from matplotlib!=3.6.1,>=3.4->seaborn) (23.2)\n",
      "Requirement already satisfied: pillow>=8 in c:\\users\\paulj\\appdata\\local\\programs\\python\\python39\\lib\\site-packages (from matplotlib!=3.6.1,>=3.4->seaborn) (10.2.0)\n",
      "Requirement already satisfied: pyparsing>=2.3.1 in c:\\users\\paulj\\appdata\\local\\programs\\python\\python39\\lib\\site-packages (from matplotlib!=3.6.1,>=3.4->seaborn) (3.1.1)\n",
      "Requirement already satisfied: python-dateutil>=2.7 in c:\\users\\paulj\\appdata\\local\\programs\\python\\python39\\lib\\site-packages (from matplotlib!=3.6.1,>=3.4->seaborn) (2.8.2)\n",
      "Requirement already satisfied: importlib-resources>=3.2.0 in c:\\users\\paulj\\appdata\\local\\programs\\python\\python39\\lib\\site-packages (from matplotlib!=3.6.1,>=3.4->seaborn) (6.1.1)\n",
      "Requirement already satisfied: pytz>=2020.1 in c:\\users\\paulj\\appdata\\local\\programs\\python\\python39\\lib\\site-packages (from pandas>=1.2->seaborn) (2023.3.post1)\n",
      "Requirement already satisfied: tzdata>=2022.1 in c:\\users\\paulj\\appdata\\local\\programs\\python\\python39\\lib\\site-packages (from pandas>=1.2->seaborn) (2023.3)\n",
      "Requirement already satisfied: zipp>=3.1.0 in c:\\users\\paulj\\appdata\\local\\programs\\python\\python39\\lib\\site-packages (from importlib-resources>=3.2.0->matplotlib!=3.6.1,>=3.4->seaborn) (3.17.0)\n",
      "Requirement already satisfied: six>=1.5 in c:\\users\\paulj\\appdata\\local\\programs\\python\\python39\\lib\\site-packages (from python-dateutil>=2.7->matplotlib!=3.6.1,>=3.4->seaborn) (1.16.0)\n",
      "Downloading seaborn-0.13.1-py3-none-any.whl (294 kB)\n",
      "   ---------------------------------------- 0.0/294.8 kB ? eta -:--:--\n",
      "   --------------- ------------------------ 112.6/294.8 kB 3.3 MB/s eta 0:00:01\n",
      "   ---------------------------------------- 294.8/294.8 kB 3.6 MB/s eta 0:00:00\n",
      "Installing collected packages: seaborn\n",
      "Successfully installed seaborn-0.13.1\n"
     ]
    }
   ],
   "source": [
    "!pip install seaborn"
   ]
  },
  {
   "cell_type": "code",
   "execution_count": 16,
   "id": "d0dcf08b",
   "metadata": {
    "colab": {
     "base_uri": "https://localhost:8080/"
    },
    "id": "d0dcf08b",
    "outputId": "c194acdb-8f31-489e-cdb6-910113acb450"
   },
   "outputs": [
    {
     "name": "stdout",
     "output_type": "stream",
     "text": [
      "Requirement already satisfied: scikit-learn in c:\\users\\paulj\\appdata\\local\\programs\\python\\python39\\lib\\site-packages (1.3.2)\n",
      "Requirement already satisfied: numpy<2.0,>=1.17.3 in c:\\users\\paulj\\appdata\\local\\programs\\python\\python39\\lib\\site-packages (from scikit-learn) (1.26.2)\n",
      "Requirement already satisfied: scipy>=1.5.0 in c:\\users\\paulj\\appdata\\local\\programs\\python\\python39\\lib\\site-packages (from scikit-learn) (1.11.4)\n",
      "Requirement already satisfied: joblib>=1.1.1 in c:\\users\\paulj\\appdata\\local\\programs\\python\\python39\\lib\\site-packages (from scikit-learn) (1.3.2)\n",
      "Requirement already satisfied: threadpoolctl>=2.0.0 in c:\\users\\paulj\\appdata\\local\\programs\\python\\python39\\lib\\site-packages (from scikit-learn) (3.2.0)\n",
      "Requirement already satisfied: chart-studio in c:\\users\\paulj\\appdata\\local\\programs\\python\\python39\\lib\\site-packages (1.1.0)\n",
      "Requirement already satisfied: plotly in c:\\users\\paulj\\appdata\\local\\programs\\python\\python39\\lib\\site-packages (from chart-studio) (5.18.0)\n",
      "Requirement already satisfied: requests in c:\\users\\paulj\\appdata\\local\\programs\\python\\python39\\lib\\site-packages (from chart-studio) (2.31.0)\n",
      "Requirement already satisfied: retrying>=1.3.3 in c:\\users\\paulj\\appdata\\local\\programs\\python\\python39\\lib\\site-packages (from chart-studio) (1.3.4)\n",
      "Requirement already satisfied: six in c:\\users\\paulj\\appdata\\local\\programs\\python\\python39\\lib\\site-packages (from chart-studio) (1.16.0)\n",
      "Requirement already satisfied: tenacity>=6.2.0 in c:\\users\\paulj\\appdata\\local\\programs\\python\\python39\\lib\\site-packages (from plotly->chart-studio) (8.2.3)\n",
      "Requirement already satisfied: packaging in c:\\users\\paulj\\appdata\\local\\programs\\python\\python39\\lib\\site-packages (from plotly->chart-studio) (23.2)\n",
      "Requirement already satisfied: charset-normalizer<4,>=2 in c:\\users\\paulj\\appdata\\local\\programs\\python\\python39\\lib\\site-packages (from requests->chart-studio) (3.3.2)\n",
      "Requirement already satisfied: idna<4,>=2.5 in c:\\users\\paulj\\appdata\\local\\programs\\python\\python39\\lib\\site-packages (from requests->chart-studio) (3.6)\n",
      "Requirement already satisfied: urllib3<3,>=1.21.1 in c:\\users\\paulj\\appdata\\local\\programs\\python\\python39\\lib\\site-packages (from requests->chart-studio) (2.1.0)\n",
      "Requirement already satisfied: certifi>=2017.4.17 in c:\\users\\paulj\\appdata\\local\\programs\\python\\python39\\lib\\site-packages (from requests->chart-studio) (2023.11.17)\n",
      "Requirement already satisfied: mplfinance in c:\\users\\paulj\\appdata\\local\\programs\\python\\python39\\lib\\site-packages (0.12.10b0)\n",
      "Requirement already satisfied: matplotlib in c:\\users\\paulj\\appdata\\local\\programs\\python\\python39\\lib\\site-packages (from mplfinance) (3.8.2)\n",
      "Requirement already satisfied: pandas in c:\\users\\paulj\\appdata\\local\\programs\\python\\python39\\lib\\site-packages (from mplfinance) (2.1.4)\n",
      "Requirement already satisfied: contourpy>=1.0.1 in c:\\users\\paulj\\appdata\\local\\programs\\python\\python39\\lib\\site-packages (from matplotlib->mplfinance) (1.2.0)\n",
      "Requirement already satisfied: cycler>=0.10 in c:\\users\\paulj\\appdata\\local\\programs\\python\\python39\\lib\\site-packages (from matplotlib->mplfinance) (0.12.1)\n",
      "Requirement already satisfied: fonttools>=4.22.0 in c:\\users\\paulj\\appdata\\local\\programs\\python\\python39\\lib\\site-packages (from matplotlib->mplfinance) (4.47.0)\n",
      "Requirement already satisfied: kiwisolver>=1.3.1 in c:\\users\\paulj\\appdata\\local\\programs\\python\\python39\\lib\\site-packages (from matplotlib->mplfinance) (1.4.5)\n",
      "Requirement already satisfied: numpy<2,>=1.21 in c:\\users\\paulj\\appdata\\local\\programs\\python\\python39\\lib\\site-packages (from matplotlib->mplfinance) (1.26.2)\n",
      "Requirement already satisfied: packaging>=20.0 in c:\\users\\paulj\\appdata\\local\\programs\\python\\python39\\lib\\site-packages (from matplotlib->mplfinance) (23.2)\n",
      "Requirement already satisfied: pillow>=8 in c:\\users\\paulj\\appdata\\local\\programs\\python\\python39\\lib\\site-packages (from matplotlib->mplfinance) (10.2.0)\n",
      "Requirement already satisfied: pyparsing>=2.3.1 in c:\\users\\paulj\\appdata\\local\\programs\\python\\python39\\lib\\site-packages (from matplotlib->mplfinance) (3.1.1)\n",
      "Requirement already satisfied: python-dateutil>=2.7 in c:\\users\\paulj\\appdata\\local\\programs\\python\\python39\\lib\\site-packages (from matplotlib->mplfinance) (2.8.2)\n",
      "Requirement already satisfied: importlib-resources>=3.2.0 in c:\\users\\paulj\\appdata\\local\\programs\\python\\python39\\lib\\site-packages (from matplotlib->mplfinance) (6.1.1)\n",
      "Requirement already satisfied: pytz>=2020.1 in c:\\users\\paulj\\appdata\\local\\programs\\python\\python39\\lib\\site-packages (from pandas->mplfinance) (2023.3.post1)\n",
      "Requirement already satisfied: tzdata>=2022.1 in c:\\users\\paulj\\appdata\\local\\programs\\python\\python39\\lib\\site-packages (from pandas->mplfinance) (2023.3)\n",
      "Requirement already satisfied: zipp>=3.1.0 in c:\\users\\paulj\\appdata\\local\\programs\\python\\python39\\lib\\site-packages (from importlib-resources>=3.2.0->matplotlib->mplfinance) (3.17.0)\n",
      "Requirement already satisfied: six>=1.5 in c:\\users\\paulj\\appdata\\local\\programs\\python\\python39\\lib\\site-packages (from python-dateutil>=2.7->matplotlib->mplfinance) (1.16.0)\n"
     ]
    }
   ],
   "source": [
    "!pip install scikit-learn\n",
    "!pip install chart-studio\n",
    "!pip install --upgrade mplfinance"
   ]
  },
  {
   "cell_type": "code",
   "execution_count": 17,
   "id": "cad2727d",
   "metadata": {
    "id": "cad2727d"
   },
   "outputs": [],
   "source": [
    "# Machine learning classification libraries\n",
    "\n",
    "from sklearn.svm import SVC\n",
    "\n",
    "from sklearn.ensemble import GradientBoostingClassifier\n",
    "\n",
    "#from sklearn.metrics import scorer\n",
    "\n",
    "from sklearn.metrics import accuracy_score\n",
    "\n",
    "# For data manipulation\n",
    "\n",
    "import pandas as pd\n",
    "\n",
    "import numpy as np\n",
    "\n",
    "import matplotlib.pyplot as plt\n",
    "\n",
    "import seaborn\n",
    "\n",
    "# Train Test Split\n",
    "\n",
    "from sklearn.model_selection import train_test_split"
   ]
  },
  {
   "cell_type": "code",
   "execution_count": 18,
   "id": "gV9Og8ZQOWcc",
   "metadata": {
    "colab": {
     "base_uri": "https://localhost:8080/"
    },
    "id": "gV9Og8ZQOWcc",
    "outputId": "1bedf360-5320-4141-87ce-819495460988"
   },
   "outputs": [
    {
     "data": {
      "text/html": [
       "<div>\n",
       "<style scoped>\n",
       "    .dataframe tbody tr th:only-of-type {\n",
       "        vertical-align: middle;\n",
       "    }\n",
       "\n",
       "    .dataframe tbody tr th {\n",
       "        vertical-align: top;\n",
       "    }\n",
       "\n",
       "    .dataframe thead th {\n",
       "        text-align: right;\n",
       "    }\n",
       "</style>\n",
       "<table border=\"1\" class=\"dataframe\">\n",
       "  <thead>\n",
       "    <tr style=\"text-align: right;\">\n",
       "      <th></th>\n",
       "      <th>index</th>\n",
       "      <th>DATE</th>\n",
       "      <th>TRADING CODE</th>\n",
       "      <th>LTP</th>\n",
       "      <th>HIGH</th>\n",
       "      <th>LOW</th>\n",
       "      <th>OPENP</th>\n",
       "      <th>CLOSEP</th>\n",
       "      <th>YCP</th>\n",
       "      <th>TRADE</th>\n",
       "      <th>VALUE(mn)</th>\n",
       "      <th>VOLUME</th>\n",
       "    </tr>\n",
       "  </thead>\n",
       "  <tbody>\n",
       "    <tr>\n",
       "      <th>0</th>\n",
       "      <td>0</td>\n",
       "      <td>12/1/2020</td>\n",
       "      <td>GP</td>\n",
       "      <td>6.1</td>\n",
       "      <td>6.3</td>\n",
       "      <td>6.1</td>\n",
       "      <td>6.2</td>\n",
       "      <td>6.1</td>\n",
       "      <td>6.2</td>\n",
       "      <td>304</td>\n",
       "      <td>9.311</td>\n",
       "      <td>1,503,031</td>\n",
       "    </tr>\n",
       "    <tr>\n",
       "      <th>1</th>\n",
       "      <td>1</td>\n",
       "      <td>11/30/2020</td>\n",
       "      <td>GP</td>\n",
       "      <td>6.2</td>\n",
       "      <td>6.5</td>\n",
       "      <td>6.1</td>\n",
       "      <td>6.5</td>\n",
       "      <td>6.2</td>\n",
       "      <td>6.4</td>\n",
       "      <td>539</td>\n",
       "      <td>16.332</td>\n",
       "      <td>2,617,333</td>\n",
       "    </tr>\n",
       "    <tr>\n",
       "      <th>2</th>\n",
       "      <td>2</td>\n",
       "      <td>11/29/2020</td>\n",
       "      <td>GP</td>\n",
       "      <td>6.4</td>\n",
       "      <td>6.7</td>\n",
       "      <td>6.3</td>\n",
       "      <td>6.5</td>\n",
       "      <td>6.4</td>\n",
       "      <td>6.5</td>\n",
       "      <td>453</td>\n",
       "      <td>19.140</td>\n",
       "      <td>2,953,085</td>\n",
       "    </tr>\n",
       "    <tr>\n",
       "      <th>3</th>\n",
       "      <td>3</td>\n",
       "      <td>11/26/2020</td>\n",
       "      <td>GP</td>\n",
       "      <td>6.5</td>\n",
       "      <td>6.7</td>\n",
       "      <td>6.3</td>\n",
       "      <td>6.5</td>\n",
       "      <td>6.5</td>\n",
       "      <td>6.3</td>\n",
       "      <td>497</td>\n",
       "      <td>22.492</td>\n",
       "      <td>3,467,374</td>\n",
       "    </tr>\n",
       "    <tr>\n",
       "      <th>4</th>\n",
       "      <td>4</td>\n",
       "      <td>11/25/2020</td>\n",
       "      <td>GP</td>\n",
       "      <td>6.3</td>\n",
       "      <td>6.7</td>\n",
       "      <td>6.2</td>\n",
       "      <td>6.7</td>\n",
       "      <td>6.3</td>\n",
       "      <td>6.6</td>\n",
       "      <td>576</td>\n",
       "      <td>26.917</td>\n",
       "      <td>4,201,219</td>\n",
       "    </tr>\n",
       "    <tr>\n",
       "      <th>...</th>\n",
       "      <td>...</td>\n",
       "      <td>...</td>\n",
       "      <td>...</td>\n",
       "      <td>...</td>\n",
       "      <td>...</td>\n",
       "      <td>...</td>\n",
       "      <td>...</td>\n",
       "      <td>...</td>\n",
       "      <td>...</td>\n",
       "      <td>...</td>\n",
       "      <td>...</td>\n",
       "      <td>...</td>\n",
       "    </tr>\n",
       "    <tr>\n",
       "      <th>2766</th>\n",
       "      <td>2766</td>\n",
       "      <td>6/25/2020</td>\n",
       "      <td>ACFL</td>\n",
       "      <td>0.0</td>\n",
       "      <td>0.0</td>\n",
       "      <td>0.0</td>\n",
       "      <td>0.0</td>\n",
       "      <td>18.6</td>\n",
       "      <td>18.6</td>\n",
       "      <td>0</td>\n",
       "      <td>0.000</td>\n",
       "      <td>0</td>\n",
       "    </tr>\n",
       "    <tr>\n",
       "      <th>2767</th>\n",
       "      <td>2767</td>\n",
       "      <td>6/24/2020</td>\n",
       "      <td>ACFL</td>\n",
       "      <td>0.0</td>\n",
       "      <td>0.0</td>\n",
       "      <td>0.0</td>\n",
       "      <td>0.0</td>\n",
       "      <td>18.6</td>\n",
       "      <td>18.6</td>\n",
       "      <td>0</td>\n",
       "      <td>0.000</td>\n",
       "      <td>0</td>\n",
       "    </tr>\n",
       "    <tr>\n",
       "      <th>2768</th>\n",
       "      <td>2768</td>\n",
       "      <td>6/23/2020</td>\n",
       "      <td>ACFL</td>\n",
       "      <td>0.0</td>\n",
       "      <td>0.0</td>\n",
       "      <td>0.0</td>\n",
       "      <td>0.0</td>\n",
       "      <td>18.6</td>\n",
       "      <td>18.6</td>\n",
       "      <td>0</td>\n",
       "      <td>0.000</td>\n",
       "      <td>0</td>\n",
       "    </tr>\n",
       "    <tr>\n",
       "      <th>2769</th>\n",
       "      <td>2769</td>\n",
       "      <td>6/22/2020</td>\n",
       "      <td>ACFL</td>\n",
       "      <td>0.0</td>\n",
       "      <td>0.0</td>\n",
       "      <td>0.0</td>\n",
       "      <td>0.0</td>\n",
       "      <td>18.6</td>\n",
       "      <td>18.6</td>\n",
       "      <td>0</td>\n",
       "      <td>0.000</td>\n",
       "      <td>0</td>\n",
       "    </tr>\n",
       "    <tr>\n",
       "      <th>2770</th>\n",
       "      <td>2770</td>\n",
       "      <td>6/21/2020</td>\n",
       "      <td>ACFL</td>\n",
       "      <td>0.0</td>\n",
       "      <td>0.0</td>\n",
       "      <td>0.0</td>\n",
       "      <td>0.0</td>\n",
       "      <td>18.6</td>\n",
       "      <td>18.6</td>\n",
       "      <td>NaN</td>\n",
       "      <td>NaN</td>\n",
       "      <td>NaN</td>\n",
       "    </tr>\n",
       "  </tbody>\n",
       "</table>\n",
       "<p>2771 rows × 12 columns</p>\n",
       "</div>"
      ],
      "text/plain": [
       "      index        DATE TRADING CODE  LTP  HIGH  LOW  OPENP  CLOSEP   YCP  \\\n",
       "0         0   12/1/2020           GP  6.1   6.3  6.1    6.2     6.1   6.2   \n",
       "1         1  11/30/2020           GP  6.2   6.5  6.1    6.5     6.2   6.4   \n",
       "2         2  11/29/2020           GP  6.4   6.7  6.3    6.5     6.4   6.5   \n",
       "3         3  11/26/2020           GP  6.5   6.7  6.3    6.5     6.5   6.3   \n",
       "4         4  11/25/2020           GP  6.3   6.7  6.2    6.7     6.3   6.6   \n",
       "...     ...         ...          ...  ...   ...  ...    ...     ...   ...   \n",
       "2766   2766   6/25/2020         ACFL  0.0   0.0  0.0    0.0    18.6  18.6   \n",
       "2767   2767   6/24/2020         ACFL  0.0   0.0  0.0    0.0    18.6  18.6   \n",
       "2768   2768   6/23/2020         ACFL  0.0   0.0  0.0    0.0    18.6  18.6   \n",
       "2769   2769   6/22/2020         ACFL  0.0   0.0  0.0    0.0    18.6  18.6   \n",
       "2770   2770   6/21/2020         ACFL  0.0   0.0  0.0    0.0    18.6  18.6   \n",
       "\n",
       "     TRADE  VALUE(mn)     VOLUME  \n",
       "0      304      9.311  1,503,031  \n",
       "1      539     16.332  2,617,333  \n",
       "2      453     19.140  2,953,085  \n",
       "3      497     22.492  3,467,374  \n",
       "4      576     26.917  4,201,219  \n",
       "...    ...        ...        ...  \n",
       "2766     0      0.000          0  \n",
       "2767     0      0.000          0  \n",
       "2768     0      0.000          0  \n",
       "2769     0      0.000          0  \n",
       "2770   NaN        NaN        NaN  \n",
       "\n",
       "[2771 rows x 12 columns]"
      ]
     },
     "execution_count": 18,
     "metadata": {},
     "output_type": "execute_result"
    }
   ],
   "source": [
    "#Print the data\n",
    "d"
   ]
  },
  {
   "cell_type": "code",
   "execution_count": 19,
   "id": "ba7fbb8d",
   "metadata": {
    "colab": {
     "base_uri": "https://localhost:8080/"
    },
    "id": "ba7fbb8d",
    "outputId": "fde06568-8461-49f9-eded-255ee9388b12"
   },
   "outputs": [
    {
     "data": {
      "text/plain": [
       "Index(['index', 'DATE', 'TRADING CODE', 'LTP', 'HIGH', 'LOW', 'OPENP',\n",
       "       'CLOSEP', 'YCP', 'TRADE', 'VALUE(mn)', 'VOLUME'],\n",
       "      dtype='object')"
      ]
     },
     "execution_count": 19,
     "metadata": {},
     "output_type": "execute_result"
    }
   ],
   "source": [
    "d.head()\n",
    "\n",
    "# get the names of the columns\n",
    "\n",
    "d.columns"
   ]
  },
  {
   "cell_type": "code",
   "execution_count": 20,
   "id": "5491b5e4",
   "metadata": {
    "id": "5491b5e4"
   },
   "outputs": [],
   "source": [
    "# strip the blank spaces from column names\n",
    "\n",
    "d.rename(columns=lambda x: x.strip(), inplace=True)"
   ]
  },
  {
   "cell_type": "code",
   "execution_count": 21,
   "id": "5db78cd9",
   "metadata": {
    "id": "5db78cd9"
   },
   "outputs": [],
   "source": [
    "d.describe()\n",
    "\n",
    "# clear the instrument names\n",
    "\n",
    "d['TRADING CODE']=d['TRADING CODE'].str.strip()"
   ]
  },
  {
   "cell_type": "code",
   "execution_count": 22,
   "id": "3ea35fb2",
   "metadata": {
    "colab": {
     "base_uri": "https://localhost:8080/"
    },
    "id": "3ea35fb2",
    "outputId": "88e21b6b-b4c2-47c8-b428-a35cec3f2567"
   },
   "outputs": [
    {
     "data": {
      "text/plain": [
       "TRADING CODE\n",
       "GP            443\n",
       "1STPRIMFMF    443\n",
       "AAMRANET      443\n",
       "AAMRATECH     443\n",
       "ABB1STMF      443\n",
       "ABBANK        443\n",
       "ACFL          113\n",
       "Name: count, dtype: int64"
      ]
     },
     "execution_count": 22,
     "metadata": {},
     "output_type": "execute_result"
    }
   ],
   "source": [
    "d['TRADING CODE'].value_counts()"
   ]
  },
  {
   "cell_type": "code",
   "execution_count": 23,
   "id": "ee0a656c",
   "metadata": {
    "id": "ee0a656c"
   },
   "outputs": [],
   "source": [
    "# select the desired instrument and sor the data according to closing prices (ascending order)\n",
    "\n",
    "da=d[(d['TRADING CODE']=='GP')].sort_values('DATE',\n",
    "ascending=False).reset_index(drop=True)\n",
    "\n",
    "da=da[da['TRADE']!=0]"
   ]
  },
  {
   "cell_type": "code",
   "execution_count": 24,
   "id": "c336d882",
   "metadata": {
    "colab": {
     "base_uri": "https://localhost:8080/",
     "height": 421
    },
    "id": "c336d882",
    "outputId": "31a00d19-009f-4792-de07-94c8d4f76dbc"
   },
   "outputs": [
    {
     "data": {
      "text/plain": [
       "Text(0.5, 1.0, 'Time Series Plot of GP')"
      ]
     },
     "execution_count": 24,
     "metadata": {},
     "output_type": "execute_result"
    },
    {
     "data": {
      "image/png": "[encoded data removed]",
      "text/plain": [
       "<Figure size 1200x600 with 1 Axes>"
      ]
     },
     "metadata": {},
     "output_type": "display_data"
    }
   ],
   "source": [
    "da.head()\n",
    "\n",
    "# draw a time series plot\n",
    "\n",
    "plt.figure(figsize=(12,6))\n",
    "\n",
    "plt.plot(da['DATE'], da['CLOSEP'])\n",
    "\n",
    "plt.xlabel('Time Points')\n",
    "\n",
    "plt.ylabel('CLOSEP')\n",
    "\n",
    "plt.title('Time Series Plot of '+da.loc[1, 'TRADING CODE'])\n"
   ]
  },
  {
   "cell_type": "code",
   "execution_count": 25,
   "id": "534f9557",
   "metadata": {
    "id": "534f9557"
   },
   "outputs": [],
   "source": [
    "# Draw the Candlestick plot\n",
    "\n",
    "import chart_studio.plotly as py\n",
    "\n",
    "import plotly.graph_objs as go\n",
    "\n",
    "from datetime import datetime\n",
    "\n",
    "from plotly.offline import download_plotlyjs, init_notebook_mode, plot,iplot\n"
   ]
  },
  {
   "cell_type": "code",
   "execution_count": 26,
   "id": "772645c2",
   "metadata": {
    "id": "772645c2"
   },
   "outputs": [
    {
     "name": "stdout",
     "output_type": "stream",
     "text": [
      "Requirement already satisfied: mplfinance in c:\\users\\paulj\\appdata\\local\\programs\\python\\python39\\lib\\site-packages (0.12.10b0)\n",
      "Requirement already satisfied: matplotlib in c:\\users\\paulj\\appdata\\local\\programs\\python\\python39\\lib\\site-packages (from mplfinance) (3.8.2)\n",
      "Requirement already satisfied: pandas in c:\\users\\paulj\\appdata\\local\\programs\\python\\python39\\lib\\site-packages (from mplfinance) (2.1.4)\n",
      "Requirement already satisfied: contourpy>=1.0.1 in c:\\users\\paulj\\appdata\\local\\programs\\python\\python39\\lib\\site-packages (from matplotlib->mplfinance) (1.2.0)\n",
      "Requirement already satisfied: cycler>=0.10 in c:\\users\\paulj\\appdata\\local\\programs\\python\\python39\\lib\\site-packages (from matplotlib->mplfinance) (0.12.1)\n",
      "Requirement already satisfied: fonttools>=4.22.0 in c:\\users\\paulj\\appdata\\local\\programs\\python\\python39\\lib\\site-packages (from matplotlib->mplfinance) (4.47.0)\n",
      "Requirement already satisfied: kiwisolver>=1.3.1 in c:\\users\\paulj\\appdata\\local\\programs\\python\\python39\\lib\\site-packages (from matplotlib->mplfinance) (1.4.5)\n",
      "Requirement already satisfied: numpy<2,>=1.21 in c:\\users\\paulj\\appdata\\local\\programs\\python\\python39\\lib\\site-packages (from matplotlib->mplfinance) (1.26.2)\n",
      "Requirement already satisfied: packaging>=20.0 in c:\\users\\paulj\\appdata\\local\\programs\\python\\python39\\lib\\site-packages (from matplotlib->mplfinance) (23.2)\n",
      "Requirement already satisfied: pillow>=8 in c:\\users\\paulj\\appdata\\local\\programs\\python\\python39\\lib\\site-packages (from matplotlib->mplfinance) (10.2.0)\n",
      "Requirement already satisfied: pyparsing>=2.3.1 in c:\\users\\paulj\\appdata\\local\\programs\\python\\python39\\lib\\site-packages (from matplotlib->mplfinance) (3.1.1)\n",
      "Requirement already satisfied: python-dateutil>=2.7 in c:\\users\\paulj\\appdata\\local\\programs\\python\\python39\\lib\\site-packages (from matplotlib->mplfinance) (2.8.2)\n",
      "Requirement already satisfied: importlib-resources>=3.2.0 in c:\\users\\paulj\\appdata\\local\\programs\\python\\python39\\lib\\site-packages (from matplotlib->mplfinance) (6.1.1)\n",
      "Requirement already satisfied: pytz>=2020.1 in c:\\users\\paulj\\appdata\\local\\programs\\python\\python39\\lib\\site-packages (from pandas->mplfinance) (2023.3.post1)\n",
      "Requirement already satisfied: tzdata>=2022.1 in c:\\users\\paulj\\appdata\\local\\programs\\python\\python39\\lib\\site-packages (from pandas->mplfinance) (2023.3)\n",
      "Requirement already satisfied: zipp>=3.1.0 in c:\\users\\paulj\\appdata\\local\\programs\\python\\python39\\lib\\site-packages (from importlib-resources>=3.2.0->matplotlib->mplfinance) (3.17.0)\n",
      "Requirement already satisfied: six>=1.5 in c:\\users\\paulj\\appdata\\local\\programs\\python\\python39\\lib\\site-packages (from python-dateutil>=2.7->matplotlib->mplfinance) (1.16.0)\n"
     ]
    }
   ],
   "source": [
    "!pip install mplfinance"
   ]
  },
  {
   "cell_type": "code",
   "execution_count": 27,
   "id": "578b8f9c",
   "metadata": {
    "colab": {
     "base_uri": "https://localhost:8080/",
     "height": 542
    },
    "id": "578b8f9c",
    "outputId": "5fb79d0e-d764-4301-e8ae-495771268231"
   },
   "outputs": [
    {
     "data": {
      "text/html": [
       "        <script type=\"text/javascript\">\n",
       "        window.PlotlyConfig = {MathJaxConfig: 'local'};\n",
       "        if (window.MathJax && window.MathJax.Hub && window.MathJax.Hub.Config) {window.MathJax.Hub.Config({SVG: {font: \"STIX-Web\"}});}\n",
       "        if (typeof require !== 'undefined') {\n",
       "        require.undef(\"plotly\");\n",
       "        requirejs.config({\n",
       "            paths: {\n",
       "                'plotly': ['https://cdn.plot.ly/plotly-2.27.0.min']\n",
       "            }\n",
       "        });\n",
       "        require(['plotly'], function(Plotly) {\n",
       "            window._Plotly = Plotly;\n",
       "        });\n",
       "        }\n",
       "        </script>\n",
       "        "
      ]
     },
     "metadata": {},
     "output_type": "display_data"
    },
    {
     "data": {
      "application/vnd.plotly.v1+json": {
       "config": {
        "linkText": "Export to plot.ly",
        "plotlyServerURL": "https://plot.ly",
        "showLink": false
       },
       "data": [
        {
         "close": [
          4.5,
          3.9,
          4.5,
          4,
          4.6,
          4.5,
          4,
          4,
          5.9,
          4.1,
          4.5,
          4.1,
          5.4,
          4.1,
          5.2,
          5.1,
          4.1,
          4.1,
          5.2,
          4.1,
          5.3,
          4,
          5,
          3.9,
          5.1,
          4.7,
          4.4,
          4.1,
          3.9,
          3.9,
          4.5,
          4,
          4.5,
          4,
          4.6,
          4,
          4.6,
          4.6,
          3.9,
          3.9,
          4.5,
          4.6,
          4.1,
          4.2,
          4.5,
          4.4,
          4.1,
          4.4,
          4.1,
          4.5,
          4.1,
          4.3,
          4.6,
          4.1,
          4.2,
          4.2,
          4.6,
          4.4,
          4.6,
          4.4,
          4.6,
          4.4,
          4.5,
          4.6,
          4.4,
          4.4,
          4.8,
          4.5,
          4.8,
          4.5,
          4.7,
          4.5,
          4.8,
          4.6,
          4.2,
          4.1,
          4.1,
          4.5,
          4.1,
          6,
          4.1,
          5.5,
          4.1,
          5.8,
          4.1,
          4.1,
          5.3,
          4.7,
          4.1,
          5.1,
          4.9,
          4.1,
          5.2,
          4.1,
          5.3,
          4.1,
          4.1,
          5.6,
          5.8,
          4.1,
          5.3,
          4.1,
          5.1,
          4.1,
          5.3,
          4.1,
          4.1,
          5,
          4.1,
          5.2,
          5.4,
          4.1,
          5.2,
          4.1,
          5.2,
          4.1,
          5.2,
          4.1,
          4.1,
          5.5,
          5.6,
          4.1,
          4.6,
          4.1,
          4.1,
          4.1,
          4.1,
          4.8,
          4.1,
          4.1,
          4.1,
          4.8,
          4.9,
          4.1,
          4.9,
          4.1,
          4.9,
          4.1,
          4.7,
          4.1,
          4.1,
          4.7,
          4.1,
          4.7,
          4.1,
          4.7,
          4.1,
          4.7,
          4.1,
          4.7,
          4.1,
          4.1,
          4.7,
          4.9,
          4.1,
          4.9,
          4.1,
          4.7,
          4.1,
          4.4,
          4.4,
          4.5,
          4.6,
          4.6,
          4.1,
          4.6,
          4.6,
          4.6,
          4.6,
          4.5,
          4.5,
          4.5,
          4.5,
          4.5,
          4.5,
          4.5,
          4.5,
          4.4,
          4.4,
          4.4,
          4.4,
          4.3,
          4.3,
          4.4,
          4.5,
          4.4,
          4.4,
          4.4,
          4.3,
          4.4,
          4.4,
          4.4,
          4.4,
          4.4,
          4.4,
          4.3,
          4.3,
          4.3,
          4.3,
          4.3,
          4.4,
          4.1,
          4.4,
          4.6,
          4.7,
          4.5,
          4.8,
          4.5,
          4.8,
          4.4,
          4.6,
          4.8,
          4.4,
          4.5,
          4.1,
          4.4,
          4.1,
          4.5,
          4.1,
          4.1,
          4.5,
          4.5,
          4.5,
          4,
          4.5,
          3.9,
          4.5,
          4,
          4.1,
          4.7,
          4.6,
          4.3,
          4.6,
          4.3,
          4.7,
          4.2,
          4.7,
          4.4,
          4.5,
          5.1,
          4.5,
          5,
          4.5,
          5,
          4.5,
          5.1,
          4.4,
          5.1,
          4.5,
          4.8,
          4.6,
          4.9,
          4.6,
          4.9,
          4.6,
          4.9,
          4.7,
          4.8,
          4.9,
          4.4,
          4.9,
          4.9,
          4.8,
          4.9,
          4.7,
          5,
          4.8,
          5,
          4.7,
          4.9,
          4.8,
          4.9,
          4.6,
          4.9,
          4.5,
          5,
          4.2,
          4.4,
          4.2,
          4.4,
          4.2,
          4.4,
          4.2,
          4.4,
          4.3,
          4.2,
          4.4,
          4.2,
          4.4,
          4.3,
          4.4,
          4.2,
          4.3,
          4.2,
          4.4,
          4.2,
          4.3,
          4.3,
          4.4,
          4.2,
          4.4,
          4.2,
          4.3,
          4.2,
          4.4,
          4.2,
          4.4,
          4.2,
          4.3,
          4.2,
          4.4,
          4.2,
          4.4,
          6.1,
          4.2,
          6.5,
          6.6,
          4.1,
          4.1,
          6.4,
          4.1,
          6.2,
          4.1,
          6.2,
          6.4,
          4,
          6.4,
          4.2,
          4.2,
          6.5,
          4.2,
          6.3,
          4.2,
          6.6,
          4.2,
          6.1,
          6,
          4.2,
          4.3,
          6.4,
          6.3,
          4.3,
          6.6,
          4.2,
          6.9,
          4.2,
          7.2,
          7.3,
          4.2,
          4.2,
          6.7,
          4.1,
          7,
          4.2,
          6.7,
          6.6,
          4.3,
          6.3,
          6.1,
          4.4,
          5.6,
          4.2,
          5.7,
          5.7,
          4,
          4,
          4.2,
          6.4,
          3.9,
          6.3,
          3.9,
          5.8,
          3.9,
          5.9,
          4,
          3.9,
          5.7,
          4,
          5.6,
          4,
          5.7,
          4.1,
          4.1,
          5.9,
          5.6,
          4.1,
          4,
          5.8,
          4.1,
          5.8,
          4,
          6.3,
          4,
          6.3,
          6.9,
          4.1,
          6,
          4.1,
          4.3,
          5.2,
          4.3,
          5.4,
          4.3,
          5.2,
          4.3,
          4.9,
          4.3,
          5.2,
          4.4,
          5.3,
          4.6,
          4.4,
          5.3,
          4.4,
          5.3,
          4.4,
          5.3,
          4.4,
          5.5,
          4.5,
          5.6,
          4.4,
          5.4,
          4.4,
          5.6,
          4.4,
          5.5,
          4.3,
          4.5,
          4.4,
          5,
          4.3,
          5.1,
          4.3,
          5,
          4.2,
          5.1,
          4.2,
          5.2,
          4.3,
          5.2,
          4.3,
          4.5
         ],
         "high": [
          4.6,
          4.1,
          4.6,
          4.1,
          4.7,
          0,
          4.1,
          4.2,
          5.9,
          4.2,
          4.6,
          4.2,
          5.5,
          4.1,
          5.4,
          5.3,
          4.1,
          4.2,
          5.5,
          4.2,
          5.4,
          4.1,
          5.4,
          4,
          5.1,
          4.7,
          4.5,
          4.2,
          4,
          4,
          4.6,
          4.1,
          4.7,
          4.1,
          4.7,
          4,
          4.7,
          4.7,
          4,
          4.1,
          4.6,
          4.7,
          4.2,
          4.3,
          4.6,
          4.5,
          4.2,
          4.5,
          4.1,
          4.6,
          4.1,
          4.6,
          4.7,
          4.1,
          4.3,
          4.3,
          4.7,
          0,
          4.7,
          4.5,
          4.7,
          4.5,
          4.7,
          4.9,
          4.5,
          4.5,
          4.9,
          4.5,
          5,
          4.6,
          4.9,
          4.6,
          5,
          4.6,
          4.3,
          4.1,
          4.3,
          4.7,
          4.1,
          6,
          4.1,
          6.1,
          4.1,
          5.8,
          4.1,
          4.1,
          5.3,
          5,
          4.1,
          5.3,
          5,
          4.1,
          5.3,
          4.1,
          5.6,
          4.1,
          4.1,
          6,
          5.8,
          4.1,
          5.3,
          0,
          5.4,
          4.1,
          5.4,
          4.1,
          0,
          5.1,
          4.1,
          5.5,
          5.7,
          4.1,
          5.5,
          4.1,
          5.2,
          4.1,
          5.7,
          4.1,
          4.1,
          5.8,
          6.2,
          0,
          4.7,
          4.1,
          4.1,
          4.1,
          4.1,
          4.9,
          4.1,
          0,
          4.1,
          4.9,
          5.1,
          0,
          5,
          0,
          5.1,
          0,
          4.8,
          0,
          0,
          4.8,
          4.1,
          4.8,
          0,
          4.8,
          0,
          4.8,
          0,
          4.8,
          4.1,
          4.1,
          4.8,
          5,
          4.1,
          5,
          0,
          4.8,
          4.1,
          4.5,
          4.5,
          4.6,
          4.7,
          4.7,
          4.1,
          4.7,
          4.7,
          4.6,
          4.6,
          4.6,
          4.6,
          4.5,
          4.6,
          4.5,
          4.5,
          4.6,
          4.5,
          4.5,
          4.5,
          4.5,
          4.5,
          4.4,
          4.4,
          4.4,
          4.5,
          4.5,
          4.5,
          4.5,
          4.4,
          4.5,
          4.5,
          4.5,
          4.5,
          4.5,
          4.5,
          4.4,
          4.4,
          4.4,
          4.4,
          4.4,
          4.5,
          4.4,
          4.5,
          4.8,
          4.9,
          4.6,
          4.9,
          4.6,
          4.9,
          4.5,
          4.6,
          5,
          4.6,
          4.5,
          4.1,
          4.5,
          4.1,
          4.6,
          4.1,
          4.2,
          4.6,
          4.6,
          4.5,
          4,
          4.6,
          4.1,
          4.7,
          4.3,
          4.2,
          4.7,
          4.7,
          4.3,
          4.7,
          4.3,
          4.8,
          4.3,
          4.8,
          4.5,
          4.6,
          5.4,
          4.6,
          5.3,
          4.6,
          5.2,
          4.6,
          5.2,
          4.5,
          5.3,
          4.6,
          5,
          4.7,
          4.9,
          4.8,
          5,
          4.7,
          5,
          4.8,
          4.9,
          5.1,
          4.5,
          4.9,
          5,
          4.9,
          5.1,
          4.8,
          5.1,
          4.8,
          5.1,
          4.9,
          5,
          4.8,
          5.2,
          4.7,
          5.2,
          4.6,
          5.3,
          4.3,
          4.4,
          4.3,
          4.5,
          4.3,
          4.4,
          4.3,
          4.4,
          4.3,
          4.2,
          4.4,
          4.3,
          4.5,
          4.3,
          4.4,
          4.3,
          4.4,
          4.3,
          4.4,
          4.3,
          4.4,
          4.3,
          4.4,
          4.3,
          4.4,
          4.3,
          4.4,
          4.2,
          4.4,
          4.3,
          4.4,
          4.2,
          4.4,
          4.3,
          4.4,
          4.3,
          4.4,
          6.3,
          4.2,
          6.8,
          6.8,
          4.2,
          4.2,
          6.5,
          4.1,
          6.5,
          4.1,
          6.5,
          6.6,
          4.1,
          6.7,
          4.3,
          4.3,
          6.7,
          4.3,
          6.7,
          4.3,
          6.7,
          4.3,
          6.3,
          6.5,
          4.3,
          4.4,
          6.8,
          6.8,
          4.3,
          6.8,
          4.2,
          7.4,
          4.2,
          7.6,
          7.3,
          4.3,
          4.2,
          7.2,
          4.2,
          7.1,
          4.2,
          6.8,
          6.8,
          4.5,
          6.6,
          6.1,
          4.6,
          5.8,
          4.3,
          5.8,
          6.1,
          4.1,
          4,
          4.3,
          6.9,
          4,
          6.3,
          4,
          6.2,
          4,
          6,
          4.1,
          4,
          5.9,
          4.1,
          5.8,
          4.1,
          6.1,
          4.2,
          4.2,
          5.9,
          5.9,
          4.1,
          4.1,
          6.2,
          4.2,
          6.4,
          4.1,
          6.6,
          4.1,
          7.2,
          6.9,
          4.4,
          6.2,
          4.2,
          4.3,
          5.4,
          4.3,
          5.4,
          4.3,
          5.3,
          4.4,
          5,
          4.4,
          5.3,
          4.5,
          5.5,
          4.7,
          4.5,
          5.5,
          4.5,
          5.5,
          4.5,
          5.5,
          4.5,
          5.6,
          4.5,
          5.6,
          4.4,
          5.6,
          4.5,
          5.8,
          4.5,
          5.5,
          4.3,
          4.6,
          4.5,
          5.2,
          4.3,
          5.2,
          4.3,
          5.2,
          4.3,
          5.2,
          4.2,
          5.2,
          4.3,
          5.3,
          4.3,
          4.6
         ],
         "low": [
          4.4,
          3.9,
          4.4,
          4,
          4.5,
          0,
          3.9,
          4,
          5.4,
          4,
          4.4,
          4.1,
          5.2,
          4,
          5.1,
          5,
          4,
          4,
          5.1,
          4,
          4.8,
          3.9,
          4.9,
          3.9,
          4.6,
          4.5,
          4.4,
          4,
          3.9,
          3.9,
          4.5,
          3.9,
          4.5,
          3.9,
          4.5,
          3.9,
          4.6,
          4.5,
          3.9,
          3.9,
          4.4,
          4.5,
          4.1,
          4.1,
          4.4,
          4.4,
          4.1,
          4.4,
          4.1,
          4.4,
          4.1,
          4.3,
          4.6,
          4.1,
          4.1,
          4.1,
          4.6,
          0,
          4.5,
          4.4,
          4.5,
          4.4,
          4.5,
          4.5,
          4.4,
          4.4,
          4.7,
          4.4,
          4.7,
          4.4,
          4.6,
          4.5,
          4.6,
          4.2,
          4.1,
          4.1,
          4.1,
          4.4,
          4.1,
          5.5,
          4.1,
          5.4,
          4.1,
          5.4,
          4.1,
          4.1,
          4.8,
          4.6,
          4.1,
          5,
          4.9,
          4.1,
          5.1,
          4.1,
          5.2,
          4.1,
          4.1,
          5.5,
          5.2,
          4.1,
          5.1,
          0,
          5,
          4.1,
          5.1,
          4.1,
          0,
          4.8,
          4.1,
          5.1,
          5.3,
          4.1,
          5.1,
          4.1,
          5,
          4.1,
          5.1,
          4.1,
          4.1,
          5.3,
          5.5,
          0,
          4.6,
          4.1,
          4.1,
          4.1,
          4.1,
          4.8,
          4.1,
          0,
          4.1,
          4.8,
          4.8,
          0,
          4.9,
          0,
          4.7,
          0,
          4.7,
          0,
          0,
          4.7,
          4.1,
          4.6,
          0,
          4.7,
          0,
          4.7,
          0,
          4.7,
          4.1,
          4.1,
          4.7,
          4.7,
          4.1,
          4.8,
          0,
          4.6,
          4.1,
          4.2,
          4.3,
          4.5,
          4.5,
          4.4,
          4.1,
          4.6,
          4.5,
          4.5,
          4.5,
          4.5,
          4.5,
          4.5,
          4.5,
          4.5,
          4.4,
          4.4,
          4.4,
          4.4,
          4.3,
          4.4,
          4.4,
          4.3,
          4.3,
          4.3,
          4.4,
          4.4,
          4.4,
          4.4,
          4.3,
          4.4,
          4.3,
          4.4,
          4.4,
          4.3,
          4.3,
          4.3,
          4.3,
          4.3,
          4.3,
          4.2,
          4.4,
          4,
          4.3,
          4.6,
          4.7,
          4.4,
          4.8,
          4.5,
          4.7,
          4.4,
          4.5,
          4.8,
          4.4,
          4.4,
          4.1,
          4.3,
          4.1,
          4.4,
          4.1,
          4.1,
          4.5,
          4.5,
          4.4,
          4,
          4.4,
          3.9,
          4.4,
          3.9,
          4.1,
          4.6,
          4.6,
          4.2,
          4.6,
          4.2,
          4.6,
          4.1,
          4.6,
          4.4,
          4.5,
          5,
          4.5,
          5,
          4.5,
          5,
          4.4,
          5.1,
          4.4,
          5.1,
          4.5,
          4.8,
          4.6,
          4.8,
          4.6,
          4.8,
          4.6,
          4.8,
          4.6,
          4.7,
          4.9,
          4.4,
          4.7,
          4.9,
          4.7,
          4.8,
          4.7,
          5,
          4.7,
          4.9,
          4.7,
          4.9,
          4.6,
          4.9,
          4.5,
          4.9,
          4.5,
          4.9,
          4.2,
          4.3,
          4.2,
          4.3,
          4.2,
          4.3,
          4.2,
          4.3,
          4.2,
          4.2,
          4.3,
          4.2,
          4.3,
          4.2,
          4.3,
          4.2,
          4.3,
          4.2,
          4.3,
          4.2,
          4.3,
          4.2,
          4.3,
          4.2,
          4.3,
          4.2,
          4.3,
          4.2,
          4.3,
          4.2,
          4.3,
          4.1,
          4.3,
          4.2,
          4.3,
          4.1,
          4.3,
          6.1,
          4.2,
          6.4,
          6.4,
          4.1,
          4.1,
          6.2,
          4,
          6.2,
          4,
          6.1,
          6.3,
          4,
          6.3,
          4.2,
          4.2,
          6.3,
          4.2,
          6.2,
          4.2,
          6.3,
          4.2,
          5.5,
          5.9,
          4.2,
          4.3,
          6.4,
          6.2,
          4.2,
          6.4,
          4.2,
          6.8,
          4.2,
          7,
          6.6,
          4.2,
          4.1,
          6.7,
          4.1,
          6.7,
          4.1,
          6.4,
          6.5,
          4.3,
          6.2,
          5.7,
          4.2,
          5.6,
          4.1,
          5.5,
          5.7,
          3.9,
          3.9,
          4.1,
          6.4,
          3.9,
          5.9,
          3.9,
          5.8,
          3.9,
          5.8,
          3.9,
          3.9,
          5.6,
          3.9,
          5.6,
          4,
          5.7,
          4.1,
          4,
          5.4,
          5.5,
          4,
          4,
          5.7,
          4,
          5.7,
          4,
          6.1,
          4,
          6.3,
          6.3,
          4.1,
          5.7,
          4,
          4.2,
          5.2,
          4.2,
          5.1,
          4.2,
          4.9,
          4.3,
          4.7,
          4.3,
          5.1,
          4.4,
          5.3,
          4.5,
          4.4,
          5.3,
          4.4,
          5.3,
          4.4,
          5.3,
          4.4,
          5.5,
          4.4,
          5.3,
          4.3,
          5.3,
          4.3,
          5.6,
          4.4,
          5.1,
          4.2,
          4.4,
          4.3,
          5,
          4.2,
          5,
          4.2,
          5,
          4.1,
          5,
          4.2,
          5,
          4.2,
          5.1,
          4.2,
          4.4
         ],
         "open": [
          4.6,
          4,
          4.6,
          4,
          4.6,
          0,
          4.1,
          4.1,
          5.4,
          4,
          4.4,
          4.1,
          5.2,
          4,
          5.1,
          5.2,
          4,
          4.2,
          5.4,
          4,
          5,
          3.9,
          5.2,
          3.9,
          4.6,
          4.5,
          4.5,
          4.1,
          3.9,
          4,
          4.5,
          4,
          4.6,
          3.9,
          4.7,
          3.9,
          4.6,
          4.5,
          3.9,
          3.9,
          4.5,
          4.6,
          4.2,
          4.1,
          4.4,
          4.5,
          4.1,
          4.5,
          4.1,
          4.5,
          4.1,
          4.6,
          4.7,
          4.1,
          4.2,
          4.3,
          4.6,
          0,
          4.6,
          4.4,
          4.6,
          4.4,
          4.6,
          4.8,
          4.4,
          4.5,
          4.8,
          4.5,
          4.7,
          4.5,
          4.7,
          4.5,
          4.7,
          4.2,
          4.1,
          4.1,
          4.2,
          4.7,
          4.1,
          5.5,
          4.1,
          5.9,
          4.1,
          5.4,
          4.1,
          4.1,
          4.9,
          5,
          4.1,
          5.3,
          5,
          4.1,
          5.2,
          4.1,
          5.6,
          4.1,
          4.1,
          5.9,
          5.3,
          4.1,
          5.1,
          0,
          5.3,
          4.1,
          5.2,
          4.1,
          0,
          4.8,
          4.1,
          5.4,
          5.6,
          4.1,
          5.2,
          4.1,
          5.2,
          4.1,
          5.4,
          4.1,
          4.1,
          5.6,
          6,
          0,
          4.6,
          4.1,
          4.1,
          4.1,
          4.1,
          4.8,
          4.1,
          0,
          4.1,
          4.8,
          5,
          0,
          4.9,
          0,
          4.7,
          0,
          4.8,
          0,
          0,
          4.7,
          4.1,
          4.7,
          0,
          4.7,
          0,
          4.7,
          0,
          4.7,
          4.1,
          4.1,
          4.8,
          4.8,
          4.1,
          4.8,
          0,
          4.7,
          4.1,
          4.4,
          4.5,
          4.6,
          4.6,
          4.4,
          4.1,
          4.6,
          4.6,
          4.5,
          4.5,
          4.5,
          4.5,
          4.5,
          4.5,
          4.5,
          4.4,
          4.5,
          4.4,
          4.4,
          4.5,
          4.4,
          4.4,
          4.3,
          4.4,
          4.4,
          4.4,
          4.4,
          4.4,
          4.5,
          4.4,
          4.4,
          4.4,
          4.4,
          4.4,
          4.4,
          4.3,
          4.4,
          4.3,
          4.4,
          4.4,
          4.3,
          4.4,
          4.4,
          4.5,
          4.8,
          4.8,
          4.5,
          4.9,
          4.6,
          4.8,
          4.4,
          4.5,
          4.8,
          4.6,
          4.4,
          4.1,
          4.5,
          4.1,
          4.5,
          4.1,
          4.1,
          4.5,
          4.5,
          4.5,
          4,
          4.5,
          4.1,
          4.6,
          4.3,
          4.2,
          4.6,
          4.6,
          4.3,
          4.7,
          4.2,
          4.6,
          4.2,
          4.6,
          4.5,
          4.5,
          5.4,
          4.5,
          5.3,
          4.5,
          5,
          4.4,
          5.2,
          4.4,
          5.2,
          4.6,
          4.9,
          4.6,
          4.8,
          4.7,
          4.9,
          4.7,
          4.8,
          4.8,
          4.9,
          5.1,
          4.4,
          4.7,
          4.9,
          4.8,
          5,
          4.8,
          5,
          4.7,
          5,
          4.8,
          5,
          4.6,
          4.9,
          4.6,
          5.2,
          4.5,
          5.3,
          4.2,
          4.4,
          4.2,
          4.3,
          4.2,
          4.4,
          4.2,
          4.3,
          4.2,
          4.2,
          4.3,
          4.2,
          4.3,
          4.2,
          4.4,
          4.2,
          4.3,
          4.2,
          4.4,
          4.2,
          4.4,
          4.2,
          4.3,
          4.2,
          4.3,
          4.2,
          4.3,
          4.2,
          4.4,
          4.2,
          4.3,
          4.2,
          4.4,
          4.2,
          4.4,
          4.1,
          4.4,
          6.2,
          4.2,
          6.7,
          6.4,
          4.1,
          4.1,
          6.3,
          4.1,
          6.5,
          4,
          6.5,
          6.5,
          4,
          6.5,
          4.2,
          4.2,
          6.5,
          4.2,
          6.7,
          4.2,
          6.4,
          4.2,
          6,
          6.4,
          4.2,
          4.3,
          6.6,
          6.7,
          4.2,
          6.7,
          4.2,
          7.2,
          4.2,
          7.4,
          6.7,
          4.2,
          4.1,
          7.1,
          4.1,
          6.7,
          4.1,
          6.5,
          6.7,
          4.4,
          6.3,
          5.7,
          4.2,
          5.7,
          4.2,
          5.8,
          6,
          4,
          3.9,
          4.2,
          6.6,
          3.9,
          6,
          4,
          6,
          4,
          5.9,
          4,
          4,
          5.6,
          4.1,
          5.8,
          4.1,
          6,
          4.1,
          4.1,
          5.6,
          5.9,
          4.1,
          4.1,
          6,
          4.1,
          6.3,
          4,
          6.4,
          4.1,
          7,
          6.4,
          4.3,
          6,
          4.2,
          4.3,
          5.4,
          4.2,
          5.2,
          4.3,
          4.9,
          4.3,
          4.7,
          4.3,
          5.3,
          4.4,
          5.4,
          4.5,
          4.4,
          5.3,
          4.4,
          5.3,
          4.4,
          5.5,
          4.4,
          5.5,
          4.4,
          5.4,
          4.3,
          5.5,
          4.3,
          5.6,
          4.4,
          5.1,
          4.2,
          4.5,
          4.3,
          5.1,
          4.3,
          5.1,
          4.3,
          5.2,
          4.2,
          5.2,
          4.2,
          5.1,
          4.3,
          5.2,
          4.2,
          4.5
         ],
         "type": "candlestick",
         "x": [
          "9/9/2020",
          "9/9/2019",
          "9/8/2020",
          "9/8/2019",
          "9/7/2020",
          "9/6/2020",
          "9/5/2019",
          "9/4/2019",
          "9/30/2020",
          "9/30/2019",
          "9/3/2020",
          "9/3/2019",
          "9/29/2020",
          "9/29/2019",
          "9/28/2020",
          "9/27/2020",
          "9/26/2019",
          "9/25/2019",
          "9/24/2020",
          "9/24/2019",
          "9/23/2020",
          "9/23/2019",
          "9/22/2020",
          "9/22/2019",
          "9/21/2020",
          "9/20/2020",
          "9/2/2020",
          "9/2/2019",
          "9/19/2019",
          "9/18/2019",
          "9/17/2020",
          "9/17/2019",
          "9/16/2020",
          "9/16/2019",
          "9/15/2020",
          "9/15/2019",
          "9/14/2020",
          "9/13/2020",
          "9/12/2019",
          "9/11/2019",
          "9/10/2020",
          "9/1/2020",
          "9/1/2019",
          "8/9/2020",
          "8/8/2019",
          "8/7/2019",
          "8/6/2020",
          "8/6/2019",
          "8/5/2020",
          "8/5/2019",
          "8/4/2020",
          "8/4/2019",
          "8/31/2020",
          "8/3/2020",
          "8/29/2019",
          "8/28/2019",
          "8/27/2020",
          "8/27/2019",
          "8/26/2020",
          "8/26/2019",
          "8/25/2020",
          "8/25/2019",
          "8/24/2020",
          "8/23/2020",
          "8/22/2019",
          "8/21/2019",
          "8/20/2020",
          "8/20/2019",
          "8/19/2020",
          "8/19/2019",
          "8/18/2020",
          "8/18/2019",
          "8/17/2020",
          "8/16/2020",
          "8/13/2020",
          "8/12/2020",
          "8/10/2020",
          "8/1/2019",
          "7/9/2020",
          "7/9/2019",
          "7/8/2020",
          "7/8/2019",
          "7/7/2020",
          "7/7/2019",
          "7/6/2020",
          "7/5/2020",
          "7/4/2019",
          "7/31/2019",
          "7/30/2020",
          "7/30/2019",
          "7/3/2019",
          "7/29/2020",
          "7/29/2019",
          "7/28/2020",
          "7/28/2019",
          "7/27/2020",
          "7/26/2020",
          "7/25/2019",
          "7/24/2019",
          "7/23/2020",
          "7/23/2019",
          "7/22/2020",
          "7/22/2019",
          "7/21/2020",
          "7/21/2019",
          "7/20/2020",
          "7/2/2020",
          "7/2/2019",
          "7/19/2020",
          "7/18/2019",
          "7/17/2019",
          "7/16/2020",
          "7/16/2019",
          "7/15/2020",
          "7/15/2019",
          "7/14/2020",
          "7/14/2019",
          "7/13/2020",
          "7/12/2020",
          "7/11/2019",
          "7/10/2019",
          "6/9/2020",
          "6/9/2019",
          "6/8/2020",
          "6/7/2020",
          "6/4/2020",
          "6/30/2020",
          "6/30/2019",
          "6/3/2020",
          "6/29/2020",
          "6/28/2020",
          "6/27/2019",
          "6/26/2019",
          "6/25/2020",
          "6/25/2019",
          "6/24/2020",
          "6/24/2019",
          "6/23/2020",
          "6/23/2019",
          "6/22/2020",
          "6/21/2020",
          "6/20/2019",
          "6/2/2020",
          "6/19/2019",
          "6/18/2020",
          "6/18/2019",
          "6/17/2020",
          "6/17/2019",
          "6/16/2020",
          "6/16/2019",
          "6/15/2020",
          "6/14/2020",
          "6/13/2019",
          "6/12/2019",
          "6/11/2020",
          "6/11/2019",
          "6/10/2020",
          "6/10/2019",
          "6/1/2020",
          "5/9/2019",
          "5/8/2019",
          "5/7/2019",
          "5/6/2019",
          "5/5/2019",
          "5/31/2020",
          "5/30/2019",
          "5/29/2019",
          "5/28/2019",
          "5/27/2019",
          "5/26/2019",
          "5/23/2019",
          "5/22/2019",
          "5/21/2019",
          "5/20/2019",
          "5/2/2019",
          "5/19/2019",
          "5/16/2019",
          "5/15/2019",
          "5/14/2019",
          "5/13/2019",
          "5/12/2019",
          "4/9/2019",
          "4/8/2019",
          "4/7/2019",
          "4/4/2019",
          "4/30/2019",
          "4/3/2019",
          "4/29/2019",
          "4/28/2019",
          "4/25/2019",
          "4/24/2019",
          "4/23/2019",
          "4/21/2019",
          "4/2/2019",
          "4/18/2019",
          "4/17/2019",
          "4/16/2019",
          "4/15/2019",
          "4/11/2019",
          "4/10/2019",
          "4/1/2019",
          "3/9/2020",
          "3/8/2020",
          "3/7/2019",
          "3/6/2019",
          "3/5/2020",
          "3/5/2019",
          "3/4/2020",
          "3/4/2019",
          "3/31/2019",
          "3/3/2020",
          "3/3/2019",
          "3/28/2019",
          "3/27/2019",
          "3/25/2020",
          "3/25/2019",
          "3/24/2020",
          "3/24/2019",
          "3/23/2020",
          "3/22/2020",
          "3/21/2019",
          "3/20/2019",
          "3/2/2020",
          "3/19/2020",
          "3/19/2019",
          "3/18/2020",
          "3/18/2019",
          "3/16/2020",
          "3/15/2020",
          "3/14/2019",
          "3/13/2019",
          "3/12/2020",
          "3/12/2019",
          "3/11/2020",
          "3/11/2019",
          "3/10/2020",
          "3/10/2019",
          "3/1/2020",
          "2/9/2020",
          "2/7/2019",
          "2/6/2020",
          "2/6/2019",
          "2/5/2020",
          "2/5/2019",
          "2/4/2020",
          "2/4/2019",
          "2/3/2020",
          "2/3/2019",
          "2/27/2020",
          "2/27/2019",
          "2/26/2020",
          "2/26/2019",
          "2/25/2020",
          "2/25/2019",
          "2/24/2020",
          "2/24/2019",
          "2/23/2020",
          "2/20/2020",
          "2/20/2019",
          "2/2/2020",
          "2/19/2020",
          "2/19/2019",
          "2/18/2020",
          "2/18/2019",
          "2/17/2020",
          "2/17/2019",
          "2/16/2020",
          "2/14/2019",
          "2/13/2020",
          "2/13/2019",
          "2/12/2020",
          "2/12/2019",
          "2/11/2020",
          "2/11/2019",
          "2/10/2020",
          "2/10/2019",
          "12/9/2019",
          "12/9/2018",
          "12/8/2019",
          "12/6/2018",
          "12/5/2019",
          "12/5/2018",
          "12/4/2019",
          "12/4/2018",
          "12/30/2019",
          "12/3/2019",
          "12/3/2018",
          "12/29/2019",
          "12/27/2018",
          "12/26/2019",
          "12/26/2018",
          "12/24/2019",
          "12/24/2018",
          "12/23/2019",
          "12/23/2018",
          "12/22/2019",
          "12/20/2018",
          "12/2/2019",
          "12/2/2018",
          "12/19/2019",
          "12/19/2018",
          "12/18/2019",
          "12/18/2018",
          "12/17/2019",
          "12/17/2018",
          "12/15/2019",
          "12/13/2018",
          "12/12/2019",
          "12/12/2018",
          "12/11/2019",
          "12/11/2018",
          "12/10/2019",
          "12/10/2018",
          "12/1/2020",
          "12/1/2019",
          "11/9/2020",
          "11/8/2020",
          "11/7/2019",
          "11/6/2019",
          "11/5/2020",
          "11/5/2019",
          "11/4/2020",
          "11/4/2019",
          "11/30/2020",
          "11/3/2020",
          "11/3/2019",
          "11/29/2020",
          "11/28/2019",
          "11/27/2019",
          "11/26/2020",
          "11/26/2019",
          "11/25/2020",
          "11/25/2019",
          "11/24/2020",
          "11/24/2019",
          "11/23/2020",
          "11/22/2020",
          "11/21/2019",
          "11/20/2019",
          "11/2/2020",
          "11/19/2020",
          "11/19/2019",
          "11/18/2020",
          "11/18/2019",
          "11/17/2020",
          "11/17/2019",
          "11/16/2020",
          "11/15/2020",
          "11/14/2019",
          "11/13/2019",
          "11/12/2020",
          "11/12/2019",
          "11/11/2020",
          "11/11/2019",
          "11/10/2020",
          "11/1/2020",
          "10/9/2019",
          "10/8/2020",
          "10/7/2020",
          "10/7/2019",
          "10/6/2020",
          "10/6/2019",
          "10/5/2020",
          "10/4/2020",
          "10/31/2019",
          "10/30/2019",
          "10/3/2019",
          "10/29/2020",
          "10/29/2019",
          "10/28/2020",
          "10/28/2019",
          "10/27/2020",
          "10/27/2019",
          "10/25/2020",
          "10/24/2019",
          "10/23/2019",
          "10/22/2020",
          "10/22/2019",
          "10/21/2020",
          "10/21/2019",
          "10/20/2020",
          "10/20/2019",
          "10/2/2019",
          "10/19/2020",
          "10/18/2020",
          "10/17/2019",
          "10/16/2019",
          "10/15/2020",
          "10/15/2019",
          "10/14/2020",
          "10/14/2019",
          "10/13/2020",
          "10/13/2019",
          "10/12/2020",
          "10/11/2020",
          "10/10/2019",
          "10/1/2020",
          "10/1/2019",
          "1/9/2020",
          "1/9/2019",
          "1/8/2020",
          "1/8/2019",
          "1/7/2020",
          "1/7/2019",
          "1/6/2020",
          "1/6/2019",
          "1/5/2020",
          "1/31/2019",
          "1/30/2020",
          "1/30/2019",
          "1/3/2019",
          "1/29/2020",
          "1/29/2019",
          "1/28/2020",
          "1/28/2019",
          "1/27/2020",
          "1/27/2019",
          "1/26/2020",
          "1/24/2019",
          "1/23/2020",
          "1/23/2019",
          "1/22/2020",
          "1/22/2019",
          "1/21/2020",
          "1/21/2019",
          "1/20/2020",
          "1/20/2019",
          "1/2/2020",
          "1/2/2019",
          "1/19/2020",
          "1/17/2019",
          "1/16/2020",
          "1/16/2019",
          "1/15/2020",
          "1/15/2019",
          "1/14/2020",
          "1/14/2019",
          "1/13/2020",
          "1/13/2019",
          "1/12/2020",
          "1/10/2019",
          "1/1/2020",
          "1/1/2019"
         ]
        }
       ],
       "layout": {
        "template": {
         "data": {
          "bar": [
           {
            "error_x": {
             "color": "#2a3f5f"
            },
            "error_y": {
             "color": "#2a3f5f"
            },
            "marker": {
             "line": {
              "color": "#E5ECF6",
              "width": 0.5
             },
             "pattern": {
              "fillmode": "overlay",
              "size": 10,
              "solidity": 0.2
             }
            },
            "type": "bar"
           }
          ],
          "barpolar": [
           {
            "marker": {
             "line": {
              "color": "#E5ECF6",
              "width": 0.5
             },
             "pattern": {
              "fillmode": "overlay",
              "size": 10,
              "solidity": 0.2
             }
            },
            "type": "barpolar"
           }
          ],
          "carpet": [
           {
            "aaxis": {
             "endlinecolor": "#2a3f5f",
             "gridcolor": "white",
             "linecolor": "white",
             "minorgridcolor": "white",
             "startlinecolor": "#2a3f5f"
            },
            "baxis": {
             "endlinecolor": "#2a3f5f",
             "gridcolor": "white",
             "linecolor": "white",
             "minorgridcolor": "white",
             "startlinecolor": "#2a3f5f"
            },
            "type": "carpet"
           }
          ],
          "choropleth": [
           {
            "colorbar": {
             "outlinewidth": 0,
             "ticks": ""
            },
            "type": "choropleth"
           }
          ],
          "contour": [
           {
            "colorbar": {
             "outlinewidth": 0,
             "ticks": ""
            },
            "colorscale": [
             [
              0,
              "#0d0887"
             ],
             [
              0.1111111111111111,
              "#46039f"
             ],
             [
              0.2222222222222222,
              "#7201a8"
             ],
             [
              0.3333333333333333,
              "#9c179e"
             ],
             [
              0.4444444444444444,
              "#bd3786"
             ],
             [
              0.5555555555555556,
              "#d8576b"
             ],
             [
              0.6666666666666666,
              "#ed7953"
             ],
             [
              0.7777777777777778,
              "#fb9f3a"
             ],
             [
              0.8888888888888888,
              "#fdca26"
             ],
             [
              1,
              "#f0f921"
             ]
            ],
            "type": "contour"
           }
          ],
          "contourcarpet": [
           {
            "colorbar": {
             "outlinewidth": 0,
             "ticks": ""
            },
            "type": "contourcarpet"
           }
          ],
          "heatmap": [
           {
            "colorbar": {
             "outlinewidth": 0,
             "ticks": ""
            },
            "colorscale": [
             [
              0,
              "#0d0887"
             ],
             [
              0.1111111111111111,
              "#46039f"
             ],
             [
              0.2222222222222222,
              "#7201a8"
             ],
             [
              0.3333333333333333,
              "#9c179e"
             ],
             [
              0.4444444444444444,
              "#bd3786"
             ],
             [
              0.5555555555555556,
              "#d8576b"
             ],
             [
              0.6666666666666666,
              "#ed7953"
             ],
             [
              0.7777777777777778,
              "#fb9f3a"
             ],
             [
              0.8888888888888888,
              "#fdca26"
             ],
             [
              1,
              "#f0f921"
             ]
            ],
            "type": "heatmap"
           }
          ],
          "heatmapgl": [
           {
            "colorbar": {
             "outlinewidth": 0,
             "ticks": ""
            },
            "colorscale": [
             [
              0,
              "#0d0887"
             ],
             [
              0.1111111111111111,
              "#46039f"
             ],
             [
              0.2222222222222222,
              "#7201a8"
             ],
             [
              0.3333333333333333,
              "#9c179e"
             ],
             [
              0.4444444444444444,
              "#bd3786"
             ],
             [
              0.5555555555555556,
              "#d8576b"
             ],
             [
              0.6666666666666666,
              "#ed7953"
             ],
             [
              0.7777777777777778,
              "#fb9f3a"
             ],
             [
              0.8888888888888888,
              "#fdca26"
             ],
             [
              1,
              "#f0f921"
             ]
            ],
            "type": "heatmapgl"
           }
          ],
          "histogram": [
           {
            "marker": {
             "pattern": {
              "fillmode": "overlay",
              "size": 10,
              "solidity": 0.2
             }
            },
            "type": "histogram"
           }
          ],
          "histogram2d": [
           {
            "colorbar": {
             "outlinewidth": 0,
             "ticks": ""
            },
            "colorscale": [
             [
              0,
              "#0d0887"
             ],
             [
              0.1111111111111111,
              "#46039f"
             ],
             [
              0.2222222222222222,
              "#7201a8"
             ],
             [
              0.3333333333333333,
              "#9c179e"
             ],
             [
              0.4444444444444444,
              "#bd3786"
             ],
             [
              0.5555555555555556,
              "#d8576b"
             ],
             [
              0.6666666666666666,
              "#ed7953"
             ],
             [
              0.7777777777777778,
              "#fb9f3a"
             ],
             [
              0.8888888888888888,
              "#fdca26"
             ],
             [
              1,
              "#f0f921"
             ]
            ],
            "type": "histogram2d"
           }
          ],
          "histogram2dcontour": [
           {
            "colorbar": {
             "outlinewidth": 0,
             "ticks": ""
            },
            "colorscale": [
             [
              0,
              "#0d0887"
             ],
             [
              0.1111111111111111,
              "#46039f"
             ],
             [
              0.2222222222222222,
              "#7201a8"
             ],
             [
              0.3333333333333333,
              "#9c179e"
             ],
             [
              0.4444444444444444,
              "#bd3786"
             ],
             [
              0.5555555555555556,
              "#d8576b"
             ],
             [
              0.6666666666666666,
              "#ed7953"
             ],
             [
              0.7777777777777778,
              "#fb9f3a"
             ],
             [
              0.8888888888888888,
              "#fdca26"
             ],
             [
              1,
              "#f0f921"
             ]
            ],
            "type": "histogram2dcontour"
           }
          ],
          "mesh3d": [
           {
            "colorbar": {
             "outlinewidth": 0,
             "ticks": ""
            },
            "type": "mesh3d"
           }
          ],
          "parcoords": [
           {
            "line": {
             "colorbar": {
              "outlinewidth": 0,
              "ticks": ""
             }
            },
            "type": "parcoords"
           }
          ],
          "pie": [
           {
            "automargin": true,
            "type": "pie"
           }
          ],
          "scatter": [
           {
            "fillpattern": {
             "fillmode": "overlay",
             "size": 10,
             "solidity": 0.2
            },
            "type": "scatter"
           }
          ],
          "scatter3d": [
           {
            "line": {
             "colorbar": {
              "outlinewidth": 0,
              "ticks": ""
             }
            },
            "marker": {
             "colorbar": {
              "outlinewidth": 0,
              "ticks": ""
             }
            },
            "type": "scatter3d"
           }
          ],
          "scattercarpet": [
           {
            "marker": {
             "colorbar": {
              "outlinewidth": 0,
              "ticks": ""
             }
            },
            "type": "scattercarpet"
           }
          ],
          "scattergeo": [
           {
            "marker": {
             "colorbar": {
              "outlinewidth": 0,
              "ticks": ""
             }
            },
            "type": "scattergeo"
           }
          ],
          "scattergl": [
           {
            "marker": {
             "colorbar": {
              "outlinewidth": 0,
              "ticks": ""
             }
            },
            "type": "scattergl"
           }
          ],
          "scattermapbox": [
           {
            "marker": {
             "colorbar": {
              "outlinewidth": 0,
              "ticks": ""
             }
            },
            "type": "scattermapbox"
           }
          ],
          "scatterpolar": [
           {
            "marker": {
             "colorbar": {
              "outlinewidth": 0,
              "ticks": ""
             }
            },
            "type": "scatterpolar"
           }
          ],
          "scatterpolargl": [
           {
            "marker": {
             "colorbar": {
              "outlinewidth": 0,
              "ticks": ""
             }
            },
            "type": "scatterpolargl"
           }
          ],
          "scatterternary": [
           {
            "marker": {
             "colorbar": {
              "outlinewidth": 0,
              "ticks": ""
             }
            },
            "type": "scatterternary"
           }
          ],
          "surface": [
           {
            "colorbar": {
             "outlinewidth": 0,
             "ticks": ""
            },
            "colorscale": [
             [
              0,
              "#0d0887"
             ],
             [
              0.1111111111111111,
              "#46039f"
             ],
             [
              0.2222222222222222,
              "#7201a8"
             ],
             [
              0.3333333333333333,
              "#9c179e"
             ],
             [
              0.4444444444444444,
              "#bd3786"
             ],
             [
              0.5555555555555556,
              "#d8576b"
             ],
             [
              0.6666666666666666,
              "#ed7953"
             ],
             [
              0.7777777777777778,
              "#fb9f3a"
             ],
             [
              0.8888888888888888,
              "#fdca26"
             ],
             [
              1,
              "#f0f921"
             ]
            ],
            "type": "surface"
           }
          ],
          "table": [
           {
            "cells": {
             "fill": {
              "color": "#EBF0F8"
             },
             "line": {
              "color": "white"
             }
            },
            "header": {
             "fill": {
              "color": "#C8D4E3"
             },
             "line": {
              "color": "white"
             }
            },
            "type": "table"
           }
          ]
         },
         "layout": {
          "annotationdefaults": {
           "arrowcolor": "#2a3f5f",
           "arrowhead": 0,
           "arrowwidth": 1
          },
          "autotypenumbers": "strict",
          "coloraxis": {
           "colorbar": {
            "outlinewidth": 0,
            "ticks": ""
           }
          },
          "colorscale": {
           "diverging": [
            [
             0,
             "#8e0152"
            ],
            [
             0.1,
             "#c51b7d"
            ],
            [
             0.2,
             "#de77ae"
            ],
            [
             0.3,
             "#f1b6da"
            ],
            [
             0.4,
             "#fde0ef"
            ],
            [
             0.5,
             "#f7f7f7"
            ],
            [
             0.6,
             "#e6f5d0"
            ],
            [
             0.7,
             "#b8e186"
            ],
            [
             0.8,
             "#7fbc41"
            ],
            [
             0.9,
             "#4d9221"
            ],
            [
             1,
             "#276419"
            ]
           ],
           "sequential": [
            [
             0,
             "#0d0887"
            ],
            [
             0.1111111111111111,
             "#46039f"
            ],
            [
             0.2222222222222222,
             "#7201a8"
            ],
            [
             0.3333333333333333,
             "#9c179e"
            ],
            [
             0.4444444444444444,
             "#bd3786"
            ],
            [
             0.5555555555555556,
             "#d8576b"
            ],
            [
             0.6666666666666666,
             "#ed7953"
            ],
            [
             0.7777777777777778,
             "#fb9f3a"
            ],
            [
             0.8888888888888888,
             "#fdca26"
            ],
            [
             1,
             "#f0f921"
            ]
           ],
           "sequentialminus": [
            [
             0,
             "#0d0887"
            ],
            [
             0.1111111111111111,
             "#46039f"
            ],
            [
             0.2222222222222222,
             "#7201a8"
            ],
            [
             0.3333333333333333,
             "#9c179e"
            ],
            [
             0.4444444444444444,
             "#bd3786"
            ],
            [
             0.5555555555555556,
             "#d8576b"
            ],
            [
             0.6666666666666666,
             "#ed7953"
            ],
            [
             0.7777777777777778,
             "#fb9f3a"
            ],
            [
             0.8888888888888888,
             "#fdca26"
            ],
            [
             1,
             "#f0f921"
            ]
           ]
          },
          "colorway": [
           "#636efa",
           "#EF553B",
           "#00cc96",
           "#ab63fa",
           "#FFA15A",
           "#19d3f3",
           "#FF6692",
           "#B6E880",
           "#FF97FF",
           "#FECB52"
          ],
          "font": {
           "color": "#2a3f5f"
          },
          "geo": {
           "bgcolor": "white",
           "lakecolor": "white",
           "landcolor": "#E5ECF6",
           "showlakes": true,
           "showland": true,
           "subunitcolor": "white"
          },
          "hoverlabel": {
           "align": "left"
          },
          "hovermode": "closest",
          "mapbox": {
           "style": "light"
          },
          "paper_bgcolor": "white",
          "plot_bgcolor": "#E5ECF6",
          "polar": {
           "angularaxis": {
            "gridcolor": "white",
            "linecolor": "white",
            "ticks": ""
           },
           "bgcolor": "#E5ECF6",
           "radialaxis": {
            "gridcolor": "white",
            "linecolor": "white",
            "ticks": ""
           }
          },
          "scene": {
           "xaxis": {
            "backgroundcolor": "#E5ECF6",
            "gridcolor": "white",
            "gridwidth": 2,
            "linecolor": "white",
            "showbackground": true,
            "ticks": "",
            "zerolinecolor": "white"
           },
           "yaxis": {
            "backgroundcolor": "#E5ECF6",
            "gridcolor": "white",
            "gridwidth": 2,
            "linecolor": "white",
            "showbackground": true,
            "ticks": "",
            "zerolinecolor": "white"
           },
           "zaxis": {
            "backgroundcolor": "#E5ECF6",
            "gridcolor": "white",
            "gridwidth": 2,
            "linecolor": "white",
            "showbackground": true,
            "ticks": "",
            "zerolinecolor": "white"
           }
          },
          "shapedefaults": {
           "line": {
            "color": "#2a3f5f"
           }
          },
          "ternary": {
           "aaxis": {
            "gridcolor": "white",
            "linecolor": "white",
            "ticks": ""
           },
           "baxis": {
            "gridcolor": "white",
            "linecolor": "white",
            "ticks": ""
           },
           "bgcolor": "#E5ECF6",
           "caxis": {
            "gridcolor": "white",
            "linecolor": "white",
            "ticks": ""
           }
          },
          "title": {
           "x": 0.05
          },
          "xaxis": {
           "automargin": true,
           "gridcolor": "white",
           "linecolor": "white",
           "ticks": "",
           "title": {
            "standoff": 15
           },
           "zerolinecolor": "white",
           "zerolinewidth": 2
          },
          "yaxis": {
           "automargin": true,
           "gridcolor": "white",
           "linecolor": "white",
           "ticks": "",
           "title": {
            "standoff": 15
           },
           "zerolinecolor": "white",
           "zerolinewidth": 2
          }
         }
        }
       }
      },
      "text/html": [
       "<div>                            <div id=\"a6f45217-e38a-4089-a082-e273ea747885\" class=\"plotly-graph-div\" style=\"height:525px; width:100%;\"></div>            <script type=\"text/javascript\">                require([\"plotly\"], function(Plotly) {                    window.PLOTLYENV=window.PLOTLYENV || {};                                    if (document.getElementById(\"a6f45217-e38a-4089-a082-e273ea747885\")) {                    Plotly.newPlot(                        \"a6f45217-e38a-4089-a082-e273ea747885\",                        [{\"close\":[4.5,3.9,4.5,4.0,4.6,4.5,4.0,4.0,5.9,4.1,4.5,4.1,5.4,4.1,5.2,5.1,4.1,4.1,5.2,4.1,5.3,4.0,5.0,3.9,5.1,4.7,4.4,4.1,3.9,3.9,4.5,4.0,4.5,4.0,4.6,4.0,4.6,4.6,3.9,3.9,4.5,4.6,4.1,4.2,4.5,4.4,4.1,4.4,4.1,4.5,4.1,4.3,4.6,4.1,4.2,4.2,4.6,4.4,4.6,4.4,4.6,4.4,4.5,4.6,4.4,4.4,4.8,4.5,4.8,4.5,4.7,4.5,4.8,4.6,4.2,4.1,4.1,4.5,4.1,6.0,4.1,5.5,4.1,5.8,4.1,4.1,5.3,4.7,4.1,5.1,4.9,4.1,5.2,4.1,5.3,4.1,4.1,5.6,5.8,4.1,5.3,4.1,5.1,4.1,5.3,4.1,4.1,5.0,4.1,5.2,5.4,4.1,5.2,4.1,5.2,4.1,5.2,4.1,4.1,5.5,5.6,4.1,4.6,4.1,4.1,4.1,4.1,4.8,4.1,4.1,4.1,4.8,4.9,4.1,4.9,4.1,4.9,4.1,4.7,4.1,4.1,4.7,4.1,4.7,4.1,4.7,4.1,4.7,4.1,4.7,4.1,4.1,4.7,4.9,4.1,4.9,4.1,4.7,4.1,4.4,4.4,4.5,4.6,4.6,4.1,4.6,4.6,4.6,4.6,4.5,4.5,4.5,4.5,4.5,4.5,4.5,4.5,4.4,4.4,4.4,4.4,4.3,4.3,4.4,4.5,4.4,4.4,4.4,4.3,4.4,4.4,4.4,4.4,4.4,4.4,4.3,4.3,4.3,4.3,4.3,4.4,4.1,4.4,4.6,4.7,4.5,4.8,4.5,4.8,4.4,4.6,4.8,4.4,4.5,4.1,4.4,4.1,4.5,4.1,4.1,4.5,4.5,4.5,4.0,4.5,3.9,4.5,4.0,4.1,4.7,4.6,4.3,4.6,4.3,4.7,4.2,4.7,4.4,4.5,5.1,4.5,5.0,4.5,5.0,4.5,5.1,4.4,5.1,4.5,4.8,4.6,4.9,4.6,4.9,4.6,4.9,4.7,4.8,4.9,4.4,4.9,4.9,4.8,4.9,4.7,5.0,4.8,5.0,4.7,4.9,4.8,4.9,4.6,4.9,4.5,5.0,4.2,4.4,4.2,4.4,4.2,4.4,4.2,4.4,4.3,4.2,4.4,4.2,4.4,4.3,4.4,4.2,4.3,4.2,4.4,4.2,4.3,4.3,4.4,4.2,4.4,4.2,4.3,4.2,4.4,4.2,4.4,4.2,4.3,4.2,4.4,4.2,4.4,6.1,4.2,6.5,6.6,4.1,4.1,6.4,4.1,6.2,4.1,6.2,6.4,4.0,6.4,4.2,4.2,6.5,4.2,6.3,4.2,6.6,4.2,6.1,6.0,4.2,4.3,6.4,6.3,4.3,6.6,4.2,6.9,4.2,7.2,7.3,4.2,4.2,6.7,4.1,7.0,4.2,6.7,6.6,4.3,6.3,6.1,4.4,5.6,4.2,5.7,5.7,4.0,4.0,4.2,6.4,3.9,6.3,3.9,5.8,3.9,5.9,4.0,3.9,5.7,4.0,5.6,4.0,5.7,4.1,4.1,5.9,5.6,4.1,4.0,5.8,4.1,5.8,4.0,6.3,4.0,6.3,6.9,4.1,6.0,4.1,4.3,5.2,4.3,5.4,4.3,5.2,4.3,4.9,4.3,5.2,4.4,5.3,4.6,4.4,5.3,4.4,5.3,4.4,5.3,4.4,5.5,4.5,5.6,4.4,5.4,4.4,5.6,4.4,5.5,4.3,4.5,4.4,5.0,4.3,5.1,4.3,5.0,4.2,5.1,4.2,5.2,4.3,5.2,4.3,4.5],\"high\":[4.6,4.1,4.6,4.1,4.7,0.0,4.1,4.2,5.9,4.2,4.6,4.2,5.5,4.1,5.4,5.3,4.1,4.2,5.5,4.2,5.4,4.1,5.4,4.0,5.1,4.7,4.5,4.2,4.0,4.0,4.6,4.1,4.7,4.1,4.7,4.0,4.7,4.7,4.0,4.1,4.6,4.7,4.2,4.3,4.6,4.5,4.2,4.5,4.1,4.6,4.1,4.6,4.7,4.1,4.3,4.3,4.7,0.0,4.7,4.5,4.7,4.5,4.7,4.9,4.5,4.5,4.9,4.5,5.0,4.6,4.9,4.6,5.0,4.6,4.3,4.1,4.3,4.7,4.1,6.0,4.1,6.1,4.1,5.8,4.1,4.1,5.3,5.0,4.1,5.3,5.0,4.1,5.3,4.1,5.6,4.1,4.1,6.0,5.8,4.1,5.3,0.0,5.4,4.1,5.4,4.1,0.0,5.1,4.1,5.5,5.7,4.1,5.5,4.1,5.2,4.1,5.7,4.1,4.1,5.8,6.2,0.0,4.7,4.1,4.1,4.1,4.1,4.9,4.1,0.0,4.1,4.9,5.1,0.0,5.0,0.0,5.1,0.0,4.8,0.0,0.0,4.8,4.1,4.8,0.0,4.8,0.0,4.8,0.0,4.8,4.1,4.1,4.8,5.0,4.1,5.0,0.0,4.8,4.1,4.5,4.5,4.6,4.7,4.7,4.1,4.7,4.7,4.6,4.6,4.6,4.6,4.5,4.6,4.5,4.5,4.6,4.5,4.5,4.5,4.5,4.5,4.4,4.4,4.4,4.5,4.5,4.5,4.5,4.4,4.5,4.5,4.5,4.5,4.5,4.5,4.4,4.4,4.4,4.4,4.4,4.5,4.4,4.5,4.8,4.9,4.6,4.9,4.6,4.9,4.5,4.6,5.0,4.6,4.5,4.1,4.5,4.1,4.6,4.1,4.2,4.6,4.6,4.5,4.0,4.6,4.1,4.7,4.3,4.2,4.7,4.7,4.3,4.7,4.3,4.8,4.3,4.8,4.5,4.6,5.4,4.6,5.3,4.6,5.2,4.6,5.2,4.5,5.3,4.6,5.0,4.7,4.9,4.8,5.0,4.7,5.0,4.8,4.9,5.1,4.5,4.9,5.0,4.9,5.1,4.8,5.1,4.8,5.1,4.9,5.0,4.8,5.2,4.7,5.2,4.6,5.3,4.3,4.4,4.3,4.5,4.3,4.4,4.3,4.4,4.3,4.2,4.4,4.3,4.5,4.3,4.4,4.3,4.4,4.3,4.4,4.3,4.4,4.3,4.4,4.3,4.4,4.3,4.4,4.2,4.4,4.3,4.4,4.2,4.4,4.3,4.4,4.3,4.4,6.3,4.2,6.8,6.8,4.2,4.2,6.5,4.1,6.5,4.1,6.5,6.6,4.1,6.7,4.3,4.3,6.7,4.3,6.7,4.3,6.7,4.3,6.3,6.5,4.3,4.4,6.8,6.8,4.3,6.8,4.2,7.4,4.2,7.6,7.3,4.3,4.2,7.2,4.2,7.1,4.2,6.8,6.8,4.5,6.6,6.1,4.6,5.8,4.3,5.8,6.1,4.1,4.0,4.3,6.9,4.0,6.3,4.0,6.2,4.0,6.0,4.1,4.0,5.9,4.1,5.8,4.1,6.1,4.2,4.2,5.9,5.9,4.1,4.1,6.2,4.2,6.4,4.1,6.6,4.1,7.2,6.9,4.4,6.2,4.2,4.3,5.4,4.3,5.4,4.3,5.3,4.4,5.0,4.4,5.3,4.5,5.5,4.7,4.5,5.5,4.5,5.5,4.5,5.5,4.5,5.6,4.5,5.6,4.4,5.6,4.5,5.8,4.5,5.5,4.3,4.6,4.5,5.2,4.3,5.2,4.3,5.2,4.3,5.2,4.2,5.2,4.3,5.3,4.3,4.6],\"low\":[4.4,3.9,4.4,4.0,4.5,0.0,3.9,4.0,5.4,4.0,4.4,4.1,5.2,4.0,5.1,5.0,4.0,4.0,5.1,4.0,4.8,3.9,4.9,3.9,4.6,4.5,4.4,4.0,3.9,3.9,4.5,3.9,4.5,3.9,4.5,3.9,4.6,4.5,3.9,3.9,4.4,4.5,4.1,4.1,4.4,4.4,4.1,4.4,4.1,4.4,4.1,4.3,4.6,4.1,4.1,4.1,4.6,0.0,4.5,4.4,4.5,4.4,4.5,4.5,4.4,4.4,4.7,4.4,4.7,4.4,4.6,4.5,4.6,4.2,4.1,4.1,4.1,4.4,4.1,5.5,4.1,5.4,4.1,5.4,4.1,4.1,4.8,4.6,4.1,5.0,4.9,4.1,5.1,4.1,5.2,4.1,4.1,5.5,5.2,4.1,5.1,0.0,5.0,4.1,5.1,4.1,0.0,4.8,4.1,5.1,5.3,4.1,5.1,4.1,5.0,4.1,5.1,4.1,4.1,5.3,5.5,0.0,4.6,4.1,4.1,4.1,4.1,4.8,4.1,0.0,4.1,4.8,4.8,0.0,4.9,0.0,4.7,0.0,4.7,0.0,0.0,4.7,4.1,4.6,0.0,4.7,0.0,4.7,0.0,4.7,4.1,4.1,4.7,4.7,4.1,4.8,0.0,4.6,4.1,4.2,4.3,4.5,4.5,4.4,4.1,4.6,4.5,4.5,4.5,4.5,4.5,4.5,4.5,4.5,4.4,4.4,4.4,4.4,4.3,4.4,4.4,4.3,4.3,4.3,4.4,4.4,4.4,4.4,4.3,4.4,4.3,4.4,4.4,4.3,4.3,4.3,4.3,4.3,4.3,4.2,4.4,4.0,4.3,4.6,4.7,4.4,4.8,4.5,4.7,4.4,4.5,4.8,4.4,4.4,4.1,4.3,4.1,4.4,4.1,4.1,4.5,4.5,4.4,4.0,4.4,3.9,4.4,3.9,4.1,4.6,4.6,4.2,4.6,4.2,4.6,4.1,4.6,4.4,4.5,5.0,4.5,5.0,4.5,5.0,4.4,5.1,4.4,5.1,4.5,4.8,4.6,4.8,4.6,4.8,4.6,4.8,4.6,4.7,4.9,4.4,4.7,4.9,4.7,4.8,4.7,5.0,4.7,4.9,4.7,4.9,4.6,4.9,4.5,4.9,4.5,4.9,4.2,4.3,4.2,4.3,4.2,4.3,4.2,4.3,4.2,4.2,4.3,4.2,4.3,4.2,4.3,4.2,4.3,4.2,4.3,4.2,4.3,4.2,4.3,4.2,4.3,4.2,4.3,4.2,4.3,4.2,4.3,4.1,4.3,4.2,4.3,4.1,4.3,6.1,4.2,6.4,6.4,4.1,4.1,6.2,4.0,6.2,4.0,6.1,6.3,4.0,6.3,4.2,4.2,6.3,4.2,6.2,4.2,6.3,4.2,5.5,5.9,4.2,4.3,6.4,6.2,4.2,6.4,4.2,6.8,4.2,7.0,6.6,4.2,4.1,6.7,4.1,6.7,4.1,6.4,6.5,4.3,6.2,5.7,4.2,5.6,4.1,5.5,5.7,3.9,3.9,4.1,6.4,3.9,5.9,3.9,5.8,3.9,5.8,3.9,3.9,5.6,3.9,5.6,4.0,5.7,4.1,4.0,5.4,5.5,4.0,4.0,5.7,4.0,5.7,4.0,6.1,4.0,6.3,6.3,4.1,5.7,4.0,4.2,5.2,4.2,5.1,4.2,4.9,4.3,4.7,4.3,5.1,4.4,5.3,4.5,4.4,5.3,4.4,5.3,4.4,5.3,4.4,5.5,4.4,5.3,4.3,5.3,4.3,5.6,4.4,5.1,4.2,4.4,4.3,5.0,4.2,5.0,4.2,5.0,4.1,5.0,4.2,5.0,4.2,5.1,4.2,4.4],\"open\":[4.6,4.0,4.6,4.0,4.6,0.0,4.1,4.1,5.4,4.0,4.4,4.1,5.2,4.0,5.1,5.2,4.0,4.2,5.4,4.0,5.0,3.9,5.2,3.9,4.6,4.5,4.5,4.1,3.9,4.0,4.5,4.0,4.6,3.9,4.7,3.9,4.6,4.5,3.9,3.9,4.5,4.6,4.2,4.1,4.4,4.5,4.1,4.5,4.1,4.5,4.1,4.6,4.7,4.1,4.2,4.3,4.6,0.0,4.6,4.4,4.6,4.4,4.6,4.8,4.4,4.5,4.8,4.5,4.7,4.5,4.7,4.5,4.7,4.2,4.1,4.1,4.2,4.7,4.1,5.5,4.1,5.9,4.1,5.4,4.1,4.1,4.9,5.0,4.1,5.3,5.0,4.1,5.2,4.1,5.6,4.1,4.1,5.9,5.3,4.1,5.1,0.0,5.3,4.1,5.2,4.1,0.0,4.8,4.1,5.4,5.6,4.1,5.2,4.1,5.2,4.1,5.4,4.1,4.1,5.6,6.0,0.0,4.6,4.1,4.1,4.1,4.1,4.8,4.1,0.0,4.1,4.8,5.0,0.0,4.9,0.0,4.7,0.0,4.8,0.0,0.0,4.7,4.1,4.7,0.0,4.7,0.0,4.7,0.0,4.7,4.1,4.1,4.8,4.8,4.1,4.8,0.0,4.7,4.1,4.4,4.5,4.6,4.6,4.4,4.1,4.6,4.6,4.5,4.5,4.5,4.5,4.5,4.5,4.5,4.4,4.5,4.4,4.4,4.5,4.4,4.4,4.3,4.4,4.4,4.4,4.4,4.4,4.5,4.4,4.4,4.4,4.4,4.4,4.4,4.3,4.4,4.3,4.4,4.4,4.3,4.4,4.4,4.5,4.8,4.8,4.5,4.9,4.6,4.8,4.4,4.5,4.8,4.6,4.4,4.1,4.5,4.1,4.5,4.1,4.1,4.5,4.5,4.5,4.0,4.5,4.1,4.6,4.3,4.2,4.6,4.6,4.3,4.7,4.2,4.6,4.2,4.6,4.5,4.5,5.4,4.5,5.3,4.5,5.0,4.4,5.2,4.4,5.2,4.6,4.9,4.6,4.8,4.7,4.9,4.7,4.8,4.8,4.9,5.1,4.4,4.7,4.9,4.8,5.0,4.8,5.0,4.7,5.0,4.8,5.0,4.6,4.9,4.6,5.2,4.5,5.3,4.2,4.4,4.2,4.3,4.2,4.4,4.2,4.3,4.2,4.2,4.3,4.2,4.3,4.2,4.4,4.2,4.3,4.2,4.4,4.2,4.4,4.2,4.3,4.2,4.3,4.2,4.3,4.2,4.4,4.2,4.3,4.2,4.4,4.2,4.4,4.1,4.4,6.2,4.2,6.7,6.4,4.1,4.1,6.3,4.1,6.5,4.0,6.5,6.5,4.0,6.5,4.2,4.2,6.5,4.2,6.7,4.2,6.4,4.2,6.0,6.4,4.2,4.3,6.6,6.7,4.2,6.7,4.2,7.2,4.2,7.4,6.7,4.2,4.1,7.1,4.1,6.7,4.1,6.5,6.7,4.4,6.3,5.7,4.2,5.7,4.2,5.8,6.0,4.0,3.9,4.2,6.6,3.9,6.0,4.0,6.0,4.0,5.9,4.0,4.0,5.6,4.1,5.8,4.1,6.0,4.1,4.1,5.6,5.9,4.1,4.1,6.0,4.1,6.3,4.0,6.4,4.1,7.0,6.4,4.3,6.0,4.2,4.3,5.4,4.2,5.2,4.3,4.9,4.3,4.7,4.3,5.3,4.4,5.4,4.5,4.4,5.3,4.4,5.3,4.4,5.5,4.4,5.5,4.4,5.4,4.3,5.5,4.3,5.6,4.4,5.1,4.2,4.5,4.3,5.1,4.3,5.1,4.3,5.2,4.2,5.2,4.2,5.1,4.3,5.2,4.2,4.5],\"x\":[\"9\\u002f9\\u002f2020\",\"9\\u002f9\\u002f2019\",\"9\\u002f8\\u002f2020\",\"9\\u002f8\\u002f2019\",\"9\\u002f7\\u002f2020\",\"9\\u002f6\\u002f2020\",\"9\\u002f5\\u002f2019\",\"9\\u002f4\\u002f2019\",\"9\\u002f30\\u002f2020\",\"9\\u002f30\\u002f2019\",\"9\\u002f3\\u002f2020\",\"9\\u002f3\\u002f2019\",\"9\\u002f29\\u002f2020\",\"9\\u002f29\\u002f2019\",\"9\\u002f28\\u002f2020\",\"9\\u002f27\\u002f2020\",\"9\\u002f26\\u002f2019\",\"9\\u002f25\\u002f2019\",\"9\\u002f24\\u002f2020\",\"9\\u002f24\\u002f2019\",\"9\\u002f23\\u002f2020\",\"9\\u002f23\\u002f2019\",\"9\\u002f22\\u002f2020\",\"9\\u002f22\\u002f2019\",\"9\\u002f21\\u002f2020\",\"9\\u002f20\\u002f2020\",\"9\\u002f2\\u002f2020\",\"9\\u002f2\\u002f2019\",\"9\\u002f19\\u002f2019\",\"9\\u002f18\\u002f2019\",\"9\\u002f17\\u002f2020\",\"9\\u002f17\\u002f2019\",\"9\\u002f16\\u002f2020\",\"9\\u002f16\\u002f2019\",\"9\\u002f15\\u002f2020\",\"9\\u002f15\\u002f2019\",\"9\\u002f14\\u002f2020\",\"9\\u002f13\\u002f2020\",\"9\\u002f12\\u002f2019\",\"9\\u002f11\\u002f2019\",\"9\\u002f10\\u002f2020\",\"9\\u002f1\\u002f2020\",\"9\\u002f1\\u002f2019\",\"8\\u002f9\\u002f2020\",\"8\\u002f8\\u002f2019\",\"8\\u002f7\\u002f2019\",\"8\\u002f6\\u002f2020\",\"8\\u002f6\\u002f2019\",\"8\\u002f5\\u002f2020\",\"8\\u002f5\\u002f2019\",\"8\\u002f4\\u002f2020\",\"8\\u002f4\\u002f2019\",\"8\\u002f31\\u002f2020\",\"8\\u002f3\\u002f2020\",\"8\\u002f29\\u002f2019\",\"8\\u002f28\\u002f2019\",\"8\\u002f27\\u002f2020\",\"8\\u002f27\\u002f2019\",\"8\\u002f26\\u002f2020\",\"8\\u002f26\\u002f2019\",\"8\\u002f25\\u002f2020\",\"8\\u002f25\\u002f2019\",\"8\\u002f24\\u002f2020\",\"8\\u002f23\\u002f2020\",\"8\\u002f22\\u002f2019\",\"8\\u002f21\\u002f2019\",\"8\\u002f20\\u002f2020\",\"8\\u002f20\\u002f2019\",\"8\\u002f19\\u002f2020\",\"8\\u002f19\\u002f2019\",\"8\\u002f18\\u002f2020\",\"8\\u002f18\\u002f2019\",\"8\\u002f17\\u002f2020\",\"8\\u002f16\\u002f2020\",\"8\\u002f13\\u002f2020\",\"8\\u002f12\\u002f2020\",\"8\\u002f10\\u002f2020\",\"8\\u002f1\\u002f2019\",\"7\\u002f9\\u002f2020\",\"7\\u002f9\\u002f2019\",\"7\\u002f8\\u002f2020\",\"7\\u002f8\\u002f2019\",\"7\\u002f7\\u002f2020\",\"7\\u002f7\\u002f2019\",\"7\\u002f6\\u002f2020\",\"7\\u002f5\\u002f2020\",\"7\\u002f4\\u002f2019\",\"7\\u002f31\\u002f2019\",\"7\\u002f30\\u002f2020\",\"7\\u002f30\\u002f2019\",\"7\\u002f3\\u002f2019\",\"7\\u002f29\\u002f2020\",\"7\\u002f29\\u002f2019\",\"7\\u002f28\\u002f2020\",\"7\\u002f28\\u002f2019\",\"7\\u002f27\\u002f2020\",\"7\\u002f26\\u002f2020\",\"7\\u002f25\\u002f2019\",\"7\\u002f24\\u002f2019\",\"7\\u002f23\\u002f2020\",\"7\\u002f23\\u002f2019\",\"7\\u002f22\\u002f2020\",\"7\\u002f22\\u002f2019\",\"7\\u002f21\\u002f2020\",\"7\\u002f21\\u002f2019\",\"7\\u002f20\\u002f2020\",\"7\\u002f2\\u002f2020\",\"7\\u002f2\\u002f2019\",\"7\\u002f19\\u002f2020\",\"7\\u002f18\\u002f2019\",\"7\\u002f17\\u002f2019\",\"7\\u002f16\\u002f2020\",\"7\\u002f16\\u002f2019\",\"7\\u002f15\\u002f2020\",\"7\\u002f15\\u002f2019\",\"7\\u002f14\\u002f2020\",\"7\\u002f14\\u002f2019\",\"7\\u002f13\\u002f2020\",\"7\\u002f12\\u002f2020\",\"7\\u002f11\\u002f2019\",\"7\\u002f10\\u002f2019\",\"6\\u002f9\\u002f2020\",\"6\\u002f9\\u002f2019\",\"6\\u002f8\\u002f2020\",\"6\\u002f7\\u002f2020\",\"6\\u002f4\\u002f2020\",\"6\\u002f30\\u002f2020\",\"6\\u002f30\\u002f2019\",\"6\\u002f3\\u002f2020\",\"6\\u002f29\\u002f2020\",\"6\\u002f28\\u002f2020\",\"6\\u002f27\\u002f2019\",\"6\\u002f26\\u002f2019\",\"6\\u002f25\\u002f2020\",\"6\\u002f25\\u002f2019\",\"6\\u002f24\\u002f2020\",\"6\\u002f24\\u002f2019\",\"6\\u002f23\\u002f2020\",\"6\\u002f23\\u002f2019\",\"6\\u002f22\\u002f2020\",\"6\\u002f21\\u002f2020\",\"6\\u002f20\\u002f2019\",\"6\\u002f2\\u002f2020\",\"6\\u002f19\\u002f2019\",\"6\\u002f18\\u002f2020\",\"6\\u002f18\\u002f2019\",\"6\\u002f17\\u002f2020\",\"6\\u002f17\\u002f2019\",\"6\\u002f16\\u002f2020\",\"6\\u002f16\\u002f2019\",\"6\\u002f15\\u002f2020\",\"6\\u002f14\\u002f2020\",\"6\\u002f13\\u002f2019\",\"6\\u002f12\\u002f2019\",\"6\\u002f11\\u002f2020\",\"6\\u002f11\\u002f2019\",\"6\\u002f10\\u002f2020\",\"6\\u002f10\\u002f2019\",\"6\\u002f1\\u002f2020\",\"5\\u002f9\\u002f2019\",\"5\\u002f8\\u002f2019\",\"5\\u002f7\\u002f2019\",\"5\\u002f6\\u002f2019\",\"5\\u002f5\\u002f2019\",\"5\\u002f31\\u002f2020\",\"5\\u002f30\\u002f2019\",\"5\\u002f29\\u002f2019\",\"5\\u002f28\\u002f2019\",\"5\\u002f27\\u002f2019\",\"5\\u002f26\\u002f2019\",\"5\\u002f23\\u002f2019\",\"5\\u002f22\\u002f2019\",\"5\\u002f21\\u002f2019\",\"5\\u002f20\\u002f2019\",\"5\\u002f2\\u002f2019\",\"5\\u002f19\\u002f2019\",\"5\\u002f16\\u002f2019\",\"5\\u002f15\\u002f2019\",\"5\\u002f14\\u002f2019\",\"5\\u002f13\\u002f2019\",\"5\\u002f12\\u002f2019\",\"4\\u002f9\\u002f2019\",\"4\\u002f8\\u002f2019\",\"4\\u002f7\\u002f2019\",\"4\\u002f4\\u002f2019\",\"4\\u002f30\\u002f2019\",\"4\\u002f3\\u002f2019\",\"4\\u002f29\\u002f2019\",\"4\\u002f28\\u002f2019\",\"4\\u002f25\\u002f2019\",\"4\\u002f24\\u002f2019\",\"4\\u002f23\\u002f2019\",\"4\\u002f21\\u002f2019\",\"4\\u002f2\\u002f2019\",\"4\\u002f18\\u002f2019\",\"4\\u002f17\\u002f2019\",\"4\\u002f16\\u002f2019\",\"4\\u002f15\\u002f2019\",\"4\\u002f11\\u002f2019\",\"4\\u002f10\\u002f2019\",\"4\\u002f1\\u002f2019\",\"3\\u002f9\\u002f2020\",\"3\\u002f8\\u002f2020\",\"3\\u002f7\\u002f2019\",\"3\\u002f6\\u002f2019\",\"3\\u002f5\\u002f2020\",\"3\\u002f5\\u002f2019\",\"3\\u002f4\\u002f2020\",\"3\\u002f4\\u002f2019\",\"3\\u002f31\\u002f2019\",\"3\\u002f3\\u002f2020\",\"3\\u002f3\\u002f2019\",\"3\\u002f28\\u002f2019\",\"3\\u002f27\\u002f2019\",\"3\\u002f25\\u002f2020\",\"3\\u002f25\\u002f2019\",\"3\\u002f24\\u002f2020\",\"3\\u002f24\\u002f2019\",\"3\\u002f23\\u002f2020\",\"3\\u002f22\\u002f2020\",\"3\\u002f21\\u002f2019\",\"3\\u002f20\\u002f2019\",\"3\\u002f2\\u002f2020\",\"3\\u002f19\\u002f2020\",\"3\\u002f19\\u002f2019\",\"3\\u002f18\\u002f2020\",\"3\\u002f18\\u002f2019\",\"3\\u002f16\\u002f2020\",\"3\\u002f15\\u002f2020\",\"3\\u002f14\\u002f2019\",\"3\\u002f13\\u002f2019\",\"3\\u002f12\\u002f2020\",\"3\\u002f12\\u002f2019\",\"3\\u002f11\\u002f2020\",\"3\\u002f11\\u002f2019\",\"3\\u002f10\\u002f2020\",\"3\\u002f10\\u002f2019\",\"3\\u002f1\\u002f2020\",\"2\\u002f9\\u002f2020\",\"2\\u002f7\\u002f2019\",\"2\\u002f6\\u002f2020\",\"2\\u002f6\\u002f2019\",\"2\\u002f5\\u002f2020\",\"2\\u002f5\\u002f2019\",\"2\\u002f4\\u002f2020\",\"2\\u002f4\\u002f2019\",\"2\\u002f3\\u002f2020\",\"2\\u002f3\\u002f2019\",\"2\\u002f27\\u002f2020\",\"2\\u002f27\\u002f2019\",\"2\\u002f26\\u002f2020\",\"2\\u002f26\\u002f2019\",\"2\\u002f25\\u002f2020\",\"2\\u002f25\\u002f2019\",\"2\\u002f24\\u002f2020\",\"2\\u002f24\\u002f2019\",\"2\\u002f23\\u002f2020\",\"2\\u002f20\\u002f2020\",\"2\\u002f20\\u002f2019\",\"2\\u002f2\\u002f2020\",\"2\\u002f19\\u002f2020\",\"2\\u002f19\\u002f2019\",\"2\\u002f18\\u002f2020\",\"2\\u002f18\\u002f2019\",\"2\\u002f17\\u002f2020\",\"2\\u002f17\\u002f2019\",\"2\\u002f16\\u002f2020\",\"2\\u002f14\\u002f2019\",\"2\\u002f13\\u002f2020\",\"2\\u002f13\\u002f2019\",\"2\\u002f12\\u002f2020\",\"2\\u002f12\\u002f2019\",\"2\\u002f11\\u002f2020\",\"2\\u002f11\\u002f2019\",\"2\\u002f10\\u002f2020\",\"2\\u002f10\\u002f2019\",\"12\\u002f9\\u002f2019\",\"12\\u002f9\\u002f2018\",\"12\\u002f8\\u002f2019\",\"12\\u002f6\\u002f2018\",\"12\\u002f5\\u002f2019\",\"12\\u002f5\\u002f2018\",\"12\\u002f4\\u002f2019\",\"12\\u002f4\\u002f2018\",\"12\\u002f30\\u002f2019\",\"12\\u002f3\\u002f2019\",\"12\\u002f3\\u002f2018\",\"12\\u002f29\\u002f2019\",\"12\\u002f27\\u002f2018\",\"12\\u002f26\\u002f2019\",\"12\\u002f26\\u002f2018\",\"12\\u002f24\\u002f2019\",\"12\\u002f24\\u002f2018\",\"12\\u002f23\\u002f2019\",\"12\\u002f23\\u002f2018\",\"12\\u002f22\\u002f2019\",\"12\\u002f20\\u002f2018\",\"12\\u002f2\\u002f2019\",\"12\\u002f2\\u002f2018\",\"12\\u002f19\\u002f2019\",\"12\\u002f19\\u002f2018\",\"12\\u002f18\\u002f2019\",\"12\\u002f18\\u002f2018\",\"12\\u002f17\\u002f2019\",\"12\\u002f17\\u002f2018\",\"12\\u002f15\\u002f2019\",\"12\\u002f13\\u002f2018\",\"12\\u002f12\\u002f2019\",\"12\\u002f12\\u002f2018\",\"12\\u002f11\\u002f2019\",\"12\\u002f11\\u002f2018\",\"12\\u002f10\\u002f2019\",\"12\\u002f10\\u002f2018\",\"12\\u002f1\\u002f2020\",\"12\\u002f1\\u002f2019\",\"11\\u002f9\\u002f2020\",\"11\\u002f8\\u002f2020\",\"11\\u002f7\\u002f2019\",\"11\\u002f6\\u002f2019\",\"11\\u002f5\\u002f2020\",\"11\\u002f5\\u002f2019\",\"11\\u002f4\\u002f2020\",\"11\\u002f4\\u002f2019\",\"11\\u002f30\\u002f2020\",\"11\\u002f3\\u002f2020\",\"11\\u002f3\\u002f2019\",\"11\\u002f29\\u002f2020\",\"11\\u002f28\\u002f2019\",\"11\\u002f27\\u002f2019\",\"11\\u002f26\\u002f2020\",\"11\\u002f26\\u002f2019\",\"11\\u002f25\\u002f2020\",\"11\\u002f25\\u002f2019\",\"11\\u002f24\\u002f2020\",\"11\\u002f24\\u002f2019\",\"11\\u002f23\\u002f2020\",\"11\\u002f22\\u002f2020\",\"11\\u002f21\\u002f2019\",\"11\\u002f20\\u002f2019\",\"11\\u002f2\\u002f2020\",\"11\\u002f19\\u002f2020\",\"11\\u002f19\\u002f2019\",\"11\\u002f18\\u002f2020\",\"11\\u002f18\\u002f2019\",\"11\\u002f17\\u002f2020\",\"11\\u002f17\\u002f2019\",\"11\\u002f16\\u002f2020\",\"11\\u002f15\\u002f2020\",\"11\\u002f14\\u002f2019\",\"11\\u002f13\\u002f2019\",\"11\\u002f12\\u002f2020\",\"11\\u002f12\\u002f2019\",\"11\\u002f11\\u002f2020\",\"11\\u002f11\\u002f2019\",\"11\\u002f10\\u002f2020\",\"11\\u002f1\\u002f2020\",\"10\\u002f9\\u002f2019\",\"10\\u002f8\\u002f2020\",\"10\\u002f7\\u002f2020\",\"10\\u002f7\\u002f2019\",\"10\\u002f6\\u002f2020\",\"10\\u002f6\\u002f2019\",\"10\\u002f5\\u002f2020\",\"10\\u002f4\\u002f2020\",\"10\\u002f31\\u002f2019\",\"10\\u002f30\\u002f2019\",\"10\\u002f3\\u002f2019\",\"10\\u002f29\\u002f2020\",\"10\\u002f29\\u002f2019\",\"10\\u002f28\\u002f2020\",\"10\\u002f28\\u002f2019\",\"10\\u002f27\\u002f2020\",\"10\\u002f27\\u002f2019\",\"10\\u002f25\\u002f2020\",\"10\\u002f24\\u002f2019\",\"10\\u002f23\\u002f2019\",\"10\\u002f22\\u002f2020\",\"10\\u002f22\\u002f2019\",\"10\\u002f21\\u002f2020\",\"10\\u002f21\\u002f2019\",\"10\\u002f20\\u002f2020\",\"10\\u002f20\\u002f2019\",\"10\\u002f2\\u002f2019\",\"10\\u002f19\\u002f2020\",\"10\\u002f18\\u002f2020\",\"10\\u002f17\\u002f2019\",\"10\\u002f16\\u002f2019\",\"10\\u002f15\\u002f2020\",\"10\\u002f15\\u002f2019\",\"10\\u002f14\\u002f2020\",\"10\\u002f14\\u002f2019\",\"10\\u002f13\\u002f2020\",\"10\\u002f13\\u002f2019\",\"10\\u002f12\\u002f2020\",\"10\\u002f11\\u002f2020\",\"10\\u002f10\\u002f2019\",\"10\\u002f1\\u002f2020\",\"10\\u002f1\\u002f2019\",\"1\\u002f9\\u002f2020\",\"1\\u002f9\\u002f2019\",\"1\\u002f8\\u002f2020\",\"1\\u002f8\\u002f2019\",\"1\\u002f7\\u002f2020\",\"1\\u002f7\\u002f2019\",\"1\\u002f6\\u002f2020\",\"1\\u002f6\\u002f2019\",\"1\\u002f5\\u002f2020\",\"1\\u002f31\\u002f2019\",\"1\\u002f30\\u002f2020\",\"1\\u002f30\\u002f2019\",\"1\\u002f3\\u002f2019\",\"1\\u002f29\\u002f2020\",\"1\\u002f29\\u002f2019\",\"1\\u002f28\\u002f2020\",\"1\\u002f28\\u002f2019\",\"1\\u002f27\\u002f2020\",\"1\\u002f27\\u002f2019\",\"1\\u002f26\\u002f2020\",\"1\\u002f24\\u002f2019\",\"1\\u002f23\\u002f2020\",\"1\\u002f23\\u002f2019\",\"1\\u002f22\\u002f2020\",\"1\\u002f22\\u002f2019\",\"1\\u002f21\\u002f2020\",\"1\\u002f21\\u002f2019\",\"1\\u002f20\\u002f2020\",\"1\\u002f20\\u002f2019\",\"1\\u002f2\\u002f2020\",\"1\\u002f2\\u002f2019\",\"1\\u002f19\\u002f2020\",\"1\\u002f17\\u002f2019\",\"1\\u002f16\\u002f2020\",\"1\\u002f16\\u002f2019\",\"1\\u002f15\\u002f2020\",\"1\\u002f15\\u002f2019\",\"1\\u002f14\\u002f2020\",\"1\\u002f14\\u002f2019\",\"1\\u002f13\\u002f2020\",\"1\\u002f13\\u002f2019\",\"1\\u002f12\\u002f2020\",\"1\\u002f10\\u002f2019\",\"1\\u002f1\\u002f2020\",\"1\\u002f1\\u002f2019\"],\"type\":\"candlestick\"}],                        {\"template\":{\"data\":{\"barpolar\":[{\"marker\":{\"line\":{\"color\":\"#E5ECF6\",\"width\":0.5},\"pattern\":{\"fillmode\":\"overlay\",\"size\":10,\"solidity\":0.2}},\"type\":\"barpolar\"}],\"bar\":[{\"error_x\":{\"color\":\"#2a3f5f\"},\"error_y\":{\"color\":\"#2a3f5f\"},\"marker\":{\"line\":{\"color\":\"#E5ECF6\",\"width\":0.5},\"pattern\":{\"fillmode\":\"overlay\",\"size\":10,\"solidity\":0.2}},\"type\":\"bar\"}],\"carpet\":[{\"aaxis\":{\"endlinecolor\":\"#2a3f5f\",\"gridcolor\":\"white\",\"linecolor\":\"white\",\"minorgridcolor\":\"white\",\"startlinecolor\":\"#2a3f5f\"},\"baxis\":{\"endlinecolor\":\"#2a3f5f\",\"gridcolor\":\"white\",\"linecolor\":\"white\",\"minorgridcolor\":\"white\",\"startlinecolor\":\"#2a3f5f\"},\"type\":\"carpet\"}],\"choropleth\":[{\"colorbar\":{\"outlinewidth\":0,\"ticks\":\"\"},\"type\":\"choropleth\"}],\"contourcarpet\":[{\"colorbar\":{\"outlinewidth\":0,\"ticks\":\"\"},\"type\":\"contourcarpet\"}],\"contour\":[{\"colorbar\":{\"outlinewidth\":0,\"ticks\":\"\"},\"colorscale\":[[0.0,\"#0d0887\"],[0.1111111111111111,\"#46039f\"],[0.2222222222222222,\"#7201a8\"],[0.3333333333333333,\"#9c179e\"],[0.4444444444444444,\"#bd3786\"],[0.5555555555555556,\"#d8576b\"],[0.6666666666666666,\"#ed7953\"],[0.7777777777777778,\"#fb9f3a\"],[0.8888888888888888,\"#fdca26\"],[1.0,\"#f0f921\"]],\"type\":\"contour\"}],\"heatmapgl\":[{\"colorbar\":{\"outlinewidth\":0,\"ticks\":\"\"},\"colorscale\":[[0.0,\"#0d0887\"],[0.1111111111111111,\"#46039f\"],[0.2222222222222222,\"#7201a8\"],[0.3333333333333333,\"#9c179e\"],[0.4444444444444444,\"#bd3786\"],[0.5555555555555556,\"#d8576b\"],[0.6666666666666666,\"#ed7953\"],[0.7777777777777778,\"#fb9f3a\"],[0.8888888888888888,\"#fdca26\"],[1.0,\"#f0f921\"]],\"type\":\"heatmapgl\"}],\"heatmap\":[{\"colorbar\":{\"outlinewidth\":0,\"ticks\":\"\"},\"colorscale\":[[0.0,\"#0d0887\"],[0.1111111111111111,\"#46039f\"],[0.2222222222222222,\"#7201a8\"],[0.3333333333333333,\"#9c179e\"],[0.4444444444444444,\"#bd3786\"],[0.5555555555555556,\"#d8576b\"],[0.6666666666666666,\"#ed7953\"],[0.7777777777777778,\"#fb9f3a\"],[0.8888888888888888,\"#fdca26\"],[1.0,\"#f0f921\"]],\"type\":\"heatmap\"}],\"histogram2dcontour\":[{\"colorbar\":{\"outlinewidth\":0,\"ticks\":\"\"},\"colorscale\":[[0.0,\"#0d0887\"],[0.1111111111111111,\"#46039f\"],[0.2222222222222222,\"#7201a8\"],[0.3333333333333333,\"#9c179e\"],[0.4444444444444444,\"#bd3786\"],[0.5555555555555556,\"#d8576b\"],[0.6666666666666666,\"#ed7953\"],[0.7777777777777778,\"#fb9f3a\"],[0.8888888888888888,\"#fdca26\"],[1.0,\"#f0f921\"]],\"type\":\"histogram2dcontour\"}],\"histogram2d\":[{\"colorbar\":{\"outlinewidth\":0,\"ticks\":\"\"},\"colorscale\":[[0.0,\"#0d0887\"],[0.1111111111111111,\"#46039f\"],[0.2222222222222222,\"#7201a8\"],[0.3333333333333333,\"#9c179e\"],[0.4444444444444444,\"#bd3786\"],[0.5555555555555556,\"#d8576b\"],[0.6666666666666666,\"#ed7953\"],[0.7777777777777778,\"#fb9f3a\"],[0.8888888888888888,\"#fdca26\"],[1.0,\"#f0f921\"]],\"type\":\"histogram2d\"}],\"histogram\":[{\"marker\":{\"pattern\":{\"fillmode\":\"overlay\",\"size\":10,\"solidity\":0.2}},\"type\":\"histogram\"}],\"mesh3d\":[{\"colorbar\":{\"outlinewidth\":0,\"ticks\":\"\"},\"type\":\"mesh3d\"}],\"parcoords\":[{\"line\":{\"colorbar\":{\"outlinewidth\":0,\"ticks\":\"\"}},\"type\":\"parcoords\"}],\"pie\":[{\"automargin\":true,\"type\":\"pie\"}],\"scatter3d\":[{\"line\":{\"colorbar\":{\"outlinewidth\":0,\"ticks\":\"\"}},\"marker\":{\"colorbar\":{\"outlinewidth\":0,\"ticks\":\"\"}},\"type\":\"scatter3d\"}],\"scattercarpet\":[{\"marker\":{\"colorbar\":{\"outlinewidth\":0,\"ticks\":\"\"}},\"type\":\"scattercarpet\"}],\"scattergeo\":[{\"marker\":{\"colorbar\":{\"outlinewidth\":0,\"ticks\":\"\"}},\"type\":\"scattergeo\"}],\"scattergl\":[{\"marker\":{\"colorbar\":{\"outlinewidth\":0,\"ticks\":\"\"}},\"type\":\"scattergl\"}],\"scattermapbox\":[{\"marker\":{\"colorbar\":{\"outlinewidth\":0,\"ticks\":\"\"}},\"type\":\"scattermapbox\"}],\"scatterpolargl\":[{\"marker\":{\"colorbar\":{\"outlinewidth\":0,\"ticks\":\"\"}},\"type\":\"scatterpolargl\"}],\"scatterpolar\":[{\"marker\":{\"colorbar\":{\"outlinewidth\":0,\"ticks\":\"\"}},\"type\":\"scatterpolar\"}],\"scatter\":[{\"fillpattern\":{\"fillmode\":\"overlay\",\"size\":10,\"solidity\":0.2},\"type\":\"scatter\"}],\"scatterternary\":[{\"marker\":{\"colorbar\":{\"outlinewidth\":0,\"ticks\":\"\"}},\"type\":\"scatterternary\"}],\"surface\":[{\"colorbar\":{\"outlinewidth\":0,\"ticks\":\"\"},\"colorscale\":[[0.0,\"#0d0887\"],[0.1111111111111111,\"#46039f\"],[0.2222222222222222,\"#7201a8\"],[0.3333333333333333,\"#9c179e\"],[0.4444444444444444,\"#bd3786\"],[0.5555555555555556,\"#d8576b\"],[0.6666666666666666,\"#ed7953\"],[0.7777777777777778,\"#fb9f3a\"],[0.8888888888888888,\"#fdca26\"],[1.0,\"#f0f921\"]],\"type\":\"surface\"}],\"table\":[{\"cells\":{\"fill\":{\"color\":\"#EBF0F8\"},\"line\":{\"color\":\"white\"}},\"header\":{\"fill\":{\"color\":\"#C8D4E3\"},\"line\":{\"color\":\"white\"}},\"type\":\"table\"}]},\"layout\":{\"annotationdefaults\":{\"arrowcolor\":\"#2a3f5f\",\"arrowhead\":0,\"arrowwidth\":1},\"autotypenumbers\":\"strict\",\"coloraxis\":{\"colorbar\":{\"outlinewidth\":0,\"ticks\":\"\"}},\"colorscale\":{\"diverging\":[[0,\"#8e0152\"],[0.1,\"#c51b7d\"],[0.2,\"#de77ae\"],[0.3,\"#f1b6da\"],[0.4,\"#fde0ef\"],[0.5,\"#f7f7f7\"],[0.6,\"#e6f5d0\"],[0.7,\"#b8e186\"],[0.8,\"#7fbc41\"],[0.9,\"#4d9221\"],[1,\"#276419\"]],\"sequential\":[[0.0,\"#0d0887\"],[0.1111111111111111,\"#46039f\"],[0.2222222222222222,\"#7201a8\"],[0.3333333333333333,\"#9c179e\"],[0.4444444444444444,\"#bd3786\"],[0.5555555555555556,\"#d8576b\"],[0.6666666666666666,\"#ed7953\"],[0.7777777777777778,\"#fb9f3a\"],[0.8888888888888888,\"#fdca26\"],[1.0,\"#f0f921\"]],\"sequentialminus\":[[0.0,\"#0d0887\"],[0.1111111111111111,\"#46039f\"],[0.2222222222222222,\"#7201a8\"],[0.3333333333333333,\"#9c179e\"],[0.4444444444444444,\"#bd3786\"],[0.5555555555555556,\"#d8576b\"],[0.6666666666666666,\"#ed7953\"],[0.7777777777777778,\"#fb9f3a\"],[0.8888888888888888,\"#fdca26\"],[1.0,\"#f0f921\"]]},\"colorway\":[\"#636efa\",\"#EF553B\",\"#00cc96\",\"#ab63fa\",\"#FFA15A\",\"#19d3f3\",\"#FF6692\",\"#B6E880\",\"#FF97FF\",\"#FECB52\"],\"font\":{\"color\":\"#2a3f5f\"},\"geo\":{\"bgcolor\":\"white\",\"lakecolor\":\"white\",\"landcolor\":\"#E5ECF6\",\"showlakes\":true,\"showland\":true,\"subunitcolor\":\"white\"},\"hoverlabel\":{\"align\":\"left\"},\"hovermode\":\"closest\",\"mapbox\":{\"style\":\"light\"},\"paper_bgcolor\":\"white\",\"plot_bgcolor\":\"#E5ECF6\",\"polar\":{\"angularaxis\":{\"gridcolor\":\"white\",\"linecolor\":\"white\",\"ticks\":\"\"},\"bgcolor\":\"#E5ECF6\",\"radialaxis\":{\"gridcolor\":\"white\",\"linecolor\":\"white\",\"ticks\":\"\"}},\"scene\":{\"xaxis\":{\"backgroundcolor\":\"#E5ECF6\",\"gridcolor\":\"white\",\"gridwidth\":2,\"linecolor\":\"white\",\"showbackground\":true,\"ticks\":\"\",\"zerolinecolor\":\"white\"},\"yaxis\":{\"backgroundcolor\":\"#E5ECF6\",\"gridcolor\":\"white\",\"gridwidth\":2,\"linecolor\":\"white\",\"showbackground\":true,\"ticks\":\"\",\"zerolinecolor\":\"white\"},\"zaxis\":{\"backgroundcolor\":\"#E5ECF6\",\"gridcolor\":\"white\",\"gridwidth\":2,\"linecolor\":\"white\",\"showbackground\":true,\"ticks\":\"\",\"zerolinecolor\":\"white\"}},\"shapedefaults\":{\"line\":{\"color\":\"#2a3f5f\"}},\"ternary\":{\"aaxis\":{\"gridcolor\":\"white\",\"linecolor\":\"white\",\"ticks\":\"\"},\"baxis\":{\"gridcolor\":\"white\",\"linecolor\":\"white\",\"ticks\":\"\"},\"bgcolor\":\"#E5ECF6\",\"caxis\":{\"gridcolor\":\"white\",\"linecolor\":\"white\",\"ticks\":\"\"}},\"title\":{\"x\":0.05},\"xaxis\":{\"automargin\":true,\"gridcolor\":\"white\",\"linecolor\":\"white\",\"ticks\":\"\",\"title\":{\"standoff\":15},\"zerolinecolor\":\"white\",\"zerolinewidth\":2},\"yaxis\":{\"automargin\":true,\"gridcolor\":\"white\",\"linecolor\":\"white\",\"ticks\":\"\",\"title\":{\"standoff\":15},\"zerolinecolor\":\"white\",\"zerolinewidth\":2}}}},                        {\"responsive\": true}                    ).then(function(){\n",
       "                            \n",
       "var gd = document.getElementById('a6f45217-e38a-4089-a082-e273ea747885');\n",
       "var x = new MutationObserver(function (mutations, observer) {{\n",
       "        var display = window.getComputedStyle(gd).display;\n",
       "        if (!display || display === 'none') {{\n",
       "            console.log([gd, 'removed!']);\n",
       "            Plotly.purge(gd);\n",
       "            observer.disconnect();\n",
       "        }}\n",
       "}});\n",
       "\n",
       "// Listen for the removal of the full notebook cells\n",
       "var notebookContainer = gd.closest('#notebook-container');\n",
       "if (notebookContainer) {{\n",
       "    x.observe(notebookContainer, {childList: true});\n",
       "}}\n",
       "\n",
       "// Listen for the clearing of the current output cell\n",
       "var outputEl = gd.closest('.output');\n",
       "if (outputEl) {{\n",
       "    x.observe(outputEl, {childList: true});\n",
       "}}\n",
       "\n",
       "                        })                };                });            </script>        </div>"
      ]
     },
     "metadata": {},
     "output_type": "display_data"
    }
   ],
   "source": [
    "init_notebook_mode(connected=True)\n",
    "\n",
    "trace = go.Candlestick(x=da['DATE'],\n",
    "\n",
    "              open=da['OPENP'],\n",
    "\n",
    "              high=da['HIGH'],\n",
    "\n",
    "              low=da['LOW'],\n",
    "\n",
    "              close=da['CLOSEP'])\n",
    "\n",
    "\n",
    "\n",
    "dat=[trace]\n",
    "\n",
    "iplot(dat)\n",
    "# Candlestick chart with matplotlib\n",
    "\n",
    "#from matplotlib.finance import candlestick_ohlc\n",
    "\n",
    "#from mpl_finance import candlestick_ohlc\n",
    "from mplfinance.original_flavor import candlestick_ohlc\n",
    "\n",
    "import matplotlib.dates as mdates\n",
    "\n",
    "# Converting date to pandas datetime format\n",
    "\n",
    "da['DATE'] = pd.to_datetime(da['DATE'])\n",
    "\n",
    "da['DATE'] = da['DATE'].apply(mdates.date2num)\n",
    "\n",
    "ohlc= da[['DATE', 'OPENP', 'HIGH', 'LOW','CLOSEP']]"
   ]
  },
  {
   "cell_type": "code",
   "execution_count": 28,
   "id": "f4f8702a",
   "metadata": {
    "colab": {
     "base_uri": "https://localhost:8080/",
     "height": 483
    },
    "id": "f4f8702a",
    "outputId": "c9de7630-9e9a-409a-b267-27fffc4b6c6f"
   },
   "outputs": [
    {
     "data": {
      "image/png": "[encoded data removed]",
      "text/plain": [
       "<Figure size 1600x800 with 1 Axes>"
      ]
     },
     "metadata": {},
     "output_type": "display_data"
    }
   ],
   "source": [
    "f1, ax = plt.subplots(figsize = (16,8))\n",
    "\n",
    "candlestick_ohlc(ax, ohlc.values, width=.6, colorup='green', colordown='red')\n",
    "\n",
    "ax.xaxis.set_major_formatter(mdates.DateFormatter('%Y-%m'))"
   ]
  },
  {
   "cell_type": "code",
   "execution_count": 29,
   "id": "7bd865b4",
   "metadata": {
    "id": "7bd865b4"
   },
   "outputs": [],
   "source": [
    "# Create the features\n",
    "\n",
    "# we believe that today's CLOSEP-OPENP and HIGH-LOW affect tomorrow's CLOSEP\n",
    "\n",
    "da['HIGH-LOW']=da['HIGH']-da['LOW']\n",
    "\n",
    "da['CLOSEP-OPENP']=da['CLOSEP']-da['OPENP']"
   ]
  },
  {
   "cell_type": "code",
   "execution_count": 30,
   "id": "ad6689e8",
   "metadata": {
    "colab": {
     "base_uri": "https://localhost:8080/",
     "height": 298
    },
    "id": "ad6689e8",
    "outputId": "f9e07027-5e94-427d-8c2c-fed8dfa57601"
   },
   "outputs": [
    {
     "data": {
      "text/plain": [
       "Text(0.5, 1.0, 'Histogram of CLOSEP-OPENP')"
      ]
     },
     "execution_count": 30,
     "metadata": {},
     "output_type": "execute_result"
    },
    {
     "data": {
      "image/png": "[encoded data removed]",
      "text/plain": [
       "<Figure size 640x480 with 1 Axes>"
      ]
     },
     "metadata": {},
     "output_type": "display_data"
    }
   ],
   "source": [
    "# check the distribution of the features\n",
    "\n",
    "plt.hist(da['CLOSEP-OPENP'])\n",
    "\n",
    "plt.title('Histogram of CLOSEP-OPENP')\n",
    "\n"
   ]
  },
  {
   "cell_type": "code",
   "execution_count": 31,
   "id": "baea595e",
   "metadata": {
    "colab": {
     "base_uri": "https://localhost:8080/",
     "height": 298
    },
    "id": "baea595e",
    "outputId": "5f43b660-dfa5-44dc-f699-f6644e4a8d32"
   },
   "outputs": [
    {
     "data": {
      "text/plain": [
       "Text(0.5, 1.0, 'Histogram of HIGH-LOW')"
      ]
     },
     "execution_count": 31,
     "metadata": {},
     "output_type": "execute_result"
    },
    {
     "data": {
      "image/png": "[encoded data removed]",
      "text/plain": [
       "<Figure size 640x480 with 1 Axes>"
      ]
     },
     "metadata": {},
     "output_type": "display_data"
    }
   ],
   "source": [
    "plt.hist(da['HIGH-LOW'])\n",
    "\n",
    "plt.title('Histogram of HIGH-LOW')\n",
    "\n",
    "\n",
    "#Text(0.5, 1.0, 'Histogram of HIGH-LOW')"
   ]
  },
  {
   "cell_type": "code",
   "execution_count": 32,
   "id": "a09d4bfb",
   "metadata": {
    "colab": {
     "base_uri": "https://localhost:8080/"
    },
    "id": "a09d4bfb",
    "outputId": "8a79612d-0782-4c3d-fa51-e3627b4bd996"
   },
   "outputs": [
    {
     "name": "stdout",
     "output_type": "stream",
     "text": [
      "(443, 14)\n"
     ]
    }
   ],
   "source": [
    "da.head()\n",
    "\n",
    "print(da.shape)"
   ]
  },
  {
   "cell_type": "code",
   "execution_count": 33,
   "id": "d3bed48f",
   "metadata": {
    "id": "d3bed48f"
   },
   "outputs": [],
   "source": [
    "da['CLOSEP']=da['CLOSEP'].astype('float64')\n",
    "\n",
    "# create the return series of CLOSEP\n",
    "\n",
    "da['Y']=da['CLOSEP'][1:]/da['CLOSEP'][:-1].values-1\n"
   ]
  },
  {
   "cell_type": "code",
   "execution_count": 34,
   "id": "a77a4f9e",
   "metadata": {
    "colab": {
     "base_uri": "https://localhost:8080/",
     "height": 206
    },
    "id": "a77a4f9e",
    "outputId": "44c8acea-8844-4f75-cd23-484290878f5b"
   },
   "outputs": [
    {
     "data": {
      "text/html": [
       "<div>\n",
       "<style scoped>\n",
       "    .dataframe tbody tr th:only-of-type {\n",
       "        vertical-align: middle;\n",
       "    }\n",
       "\n",
       "    .dataframe tbody tr th {\n",
       "        vertical-align: top;\n",
       "    }\n",
       "\n",
       "    .dataframe thead th {\n",
       "        text-align: right;\n",
       "    }\n",
       "</style>\n",
       "<table border=\"1\" class=\"dataframe\">\n",
       "  <thead>\n",
       "    <tr style=\"text-align: right;\">\n",
       "      <th></th>\n",
       "      <th>index</th>\n",
       "      <th>DATE</th>\n",
       "      <th>TRADING CODE</th>\n",
       "      <th>LTP</th>\n",
       "      <th>HIGH</th>\n",
       "      <th>LOW</th>\n",
       "      <th>OPENP</th>\n",
       "      <th>CLOSEP</th>\n",
       "      <th>YCP</th>\n",
       "      <th>TRADE</th>\n",
       "      <th>VALUE(mn)</th>\n",
       "      <th>VOLUME</th>\n",
       "      <th>HIGH-LOW</th>\n",
       "      <th>CLOSEP-OPENP</th>\n",
       "      <th>Y</th>\n",
       "    </tr>\n",
       "  </thead>\n",
       "  <tbody>\n",
       "    <tr>\n",
       "      <th>0</th>\n",
       "      <td>58</td>\n",
       "      <td>18514.0</td>\n",
       "      <td>GP</td>\n",
       "      <td>4.5</td>\n",
       "      <td>4.6</td>\n",
       "      <td>4.4</td>\n",
       "      <td>4.6</td>\n",
       "      <td>4.5</td>\n",
       "      <td>4.5</td>\n",
       "      <td>91</td>\n",
       "      <td>1.363</td>\n",
       "      <td>302,992</td>\n",
       "      <td>0.2</td>\n",
       "      <td>-0.1</td>\n",
       "      <td>NaN</td>\n",
       "    </tr>\n",
       "    <tr>\n",
       "      <th>1</th>\n",
       "      <td>263</td>\n",
       "      <td>18148.0</td>\n",
       "      <td>GP</td>\n",
       "      <td>3.9</td>\n",
       "      <td>4.1</td>\n",
       "      <td>3.9</td>\n",
       "      <td>4.0</td>\n",
       "      <td>3.9</td>\n",
       "      <td>4.0</td>\n",
       "      <td>91</td>\n",
       "      <td>1.966</td>\n",
       "      <td>492,019</td>\n",
       "      <td>0.2</td>\n",
       "      <td>-0.1</td>\n",
       "      <td>-0.133333</td>\n",
       "    </tr>\n",
       "    <tr>\n",
       "      <th>2</th>\n",
       "      <td>59</td>\n",
       "      <td>18513.0</td>\n",
       "      <td>GP</td>\n",
       "      <td>4.6</td>\n",
       "      <td>4.6</td>\n",
       "      <td>4.4</td>\n",
       "      <td>4.6</td>\n",
       "      <td>4.5</td>\n",
       "      <td>4.6</td>\n",
       "      <td>136</td>\n",
       "      <td>6.872</td>\n",
       "      <td>1,523,449</td>\n",
       "      <td>0.2</td>\n",
       "      <td>-0.1</td>\n",
       "      <td>0.153846</td>\n",
       "    </tr>\n",
       "    <tr>\n",
       "      <th>3</th>\n",
       "      <td>264</td>\n",
       "      <td>18147.0</td>\n",
       "      <td>GP</td>\n",
       "      <td>4.1</td>\n",
       "      <td>4.1</td>\n",
       "      <td>4.0</td>\n",
       "      <td>4.0</td>\n",
       "      <td>4.0</td>\n",
       "      <td>4.0</td>\n",
       "      <td>35</td>\n",
       "      <td>0.993</td>\n",
       "      <td>247,662</td>\n",
       "      <td>0.1</td>\n",
       "      <td>0.0</td>\n",
       "      <td>-0.111111</td>\n",
       "    </tr>\n",
       "    <tr>\n",
       "      <th>4</th>\n",
       "      <td>60</td>\n",
       "      <td>18512.0</td>\n",
       "      <td>GP</td>\n",
       "      <td>4.6</td>\n",
       "      <td>4.7</td>\n",
       "      <td>4.5</td>\n",
       "      <td>4.6</td>\n",
       "      <td>4.6</td>\n",
       "      <td>4.5</td>\n",
       "      <td>105</td>\n",
       "      <td>5.216</td>\n",
       "      <td>1,132,828</td>\n",
       "      <td>0.2</td>\n",
       "      <td>0.0</td>\n",
       "      <td>0.150000</td>\n",
       "    </tr>\n",
       "  </tbody>\n",
       "</table>\n",
       "</div>"
      ],
      "text/plain": [
       "   index     DATE TRADING CODE  LTP  HIGH  LOW  OPENP  CLOSEP  YCP TRADE  \\\n",
       "0     58  18514.0           GP  4.5   4.6  4.4    4.6     4.5  4.5    91   \n",
       "1    263  18148.0           GP  3.9   4.1  3.9    4.0     3.9  4.0    91   \n",
       "2     59  18513.0           GP  4.6   4.6  4.4    4.6     4.5  4.6   136   \n",
       "3    264  18147.0           GP  4.1   4.1  4.0    4.0     4.0  4.0    35   \n",
       "4     60  18512.0           GP  4.6   4.7  4.5    4.6     4.6  4.5   105   \n",
       "\n",
       "   VALUE(mn)     VOLUME  HIGH-LOW  CLOSEP-OPENP         Y  \n",
       "0      1.363    302,992       0.2          -0.1       NaN  \n",
       "1      1.966    492,019       0.2          -0.1 -0.133333  \n",
       "2      6.872  1,523,449       0.2          -0.1  0.153846  \n",
       "3      0.993    247,662       0.1           0.0 -0.111111  \n",
       "4      5.216  1,132,828       0.2           0.0  0.150000  "
      ]
     },
     "execution_count": 34,
     "metadata": {},
     "output_type": "execute_result"
    }
   ],
   "source": [
    "da.head()"
   ]
  },
  {
   "cell_type": "code",
   "execution_count": 35,
   "id": "911affe5",
   "metadata": {
    "colab": {
     "base_uri": "https://localhost:8080/",
     "height": 306
    },
    "id": "911affe5",
    "outputId": "6c1303d3-9ec5-42be-af60-b8b2ed2a1207"
   },
   "outputs": [
    {
     "data": {
      "text/plain": [
       "Text(0, 0.5, 'Count')"
      ]
     },
     "execution_count": 35,
     "metadata": {},
     "output_type": "execute_result"
    },
    {
     "data": {
      "image/png": "[encoded data removed]",
      "text/plain": [
       "<Figure size 640x480 with 1 Axes>"
      ]
     },
     "metadata": {},
     "output_type": "display_data"
    }
   ],
   "source": [
    "# if todays CLOSEP is greater than yesterday's CLOSEP, 1, else -1\n",
    "\n",
    "da.loc[da['Y']>0, 'DEX']=1\n",
    "\n",
    "da.loc[da['Y']<=0, 'DEX']=-1\n",
    "\n",
    "# we shifted the values of DEX up one step for the sake of model fitting, i.e tomorrow's DEX is inline with today's features\n",
    "\n",
    "da['DEX']=da['DEX'].shift(-1)\n",
    "\n",
    "da.head()\n",
    "\n",
    "da.tail()\n",
    "\n",
    "# bar plot of the Target variable\n",
    "\n",
    "da.groupby(['DEX'])['CLOSEP'].count().plot(kind='bar')\n",
    "\n",
    "plt.ylabel('Count')"
   ]
  },
  {
   "cell_type": "code",
   "execution_count": 36,
   "id": "931d09a4",
   "metadata": {
    "id": "931d09a4"
   },
   "outputs": [],
   "source": [
    "# remove the rows with missing values\n",
    "\n",
    "da=da.dropna()"
   ]
  },
  {
   "cell_type": "code",
   "execution_count": 37,
   "id": "617a0130",
   "metadata": {
    "id": "617a0130"
   },
   "outputs": [],
   "source": [
    "y=da['DEX']\n",
    "\n",
    "X=da[['CLOSEP-OPENP', 'HIGH-LOW']]"
   ]
  },
  {
   "cell_type": "code",
   "execution_count": 38,
   "id": "fc50a66b",
   "metadata": {
    "id": "fc50a66b"
   },
   "outputs": [],
   "source": [
    "# set the train set size\n",
    "\n",
    "pc=.90\n",
    "\n",
    "j=int(pc*len(da['DEX']))"
   ]
  },
  {
   "cell_type": "code",
   "execution_count": 39,
   "id": "2db35530",
   "metadata": {
    "id": "2db35530"
   },
   "outputs": [],
   "source": [
    "# train test split of features\n",
    "\n",
    "X_train=X[:j]\n",
    "\n",
    "X_test=X[j:]"
   ]
  },
  {
   "cell_type": "code",
   "execution_count": 40,
   "id": "d63cf86b",
   "metadata": {
    "id": "d63cf86b"
   },
   "outputs": [],
   "source": [
    "# train test split of target variable\n",
    "\n",
    "y_train=y[:j]\n",
    "\n",
    "y_test=y[j:]"
   ]
  },
  {
   "cell_type": "code",
   "execution_count": 41,
   "id": "ce58b409",
   "metadata": {
    "id": "ce58b409"
   },
   "outputs": [],
   "source": [
    "# set the Support vector classifier model\n",
    "\n",
    "dex=SVC().fit(X_train, y_train)\n"
   ]
  },
  {
   "cell_type": "code",
   "execution_count": 42,
   "id": "0c919696",
   "metadata": {
    "colab": {
     "base_uri": "https://localhost:8080/"
    },
    "id": "0c919696",
    "outputId": "b30824bb-73a5-4145-b359-4117a91c8a8a"
   },
   "outputs": [
    {
     "data": {
      "text/plain": [
       "array([-1.,  1., -1., -1., -1.,  1., -1.,  1., -1.,  1., -1.,  1., -1.,\n",
       "       -1.,  1., -1.,  1., -1.,  1., -1.,  1.,  1., -1., -1., -1., -1.,\n",
       "       -1., -1.,  1., -1., -1., -1., -1., -1.,  1., -1.,  1., -1., -1.,\n",
       "       -1.,  1., -1.,  1., -1., -1.])"
      ]
     },
     "execution_count": 42,
     "metadata": {},
     "output_type": "execute_result"
    }
   ],
   "source": [
    "# predict the test set values\n",
    "\n",
    "y_pred=dex.predict(X_test)\n",
    "\n",
    "len(y_pred)\n",
    "\n",
    "y_pred"
   ]
  },
  {
   "cell_type": "code",
   "execution_count": 43,
   "id": "8995ddfa",
   "metadata": {
    "colab": {
     "base_uri": "https://localhost:8080/"
    },
    "id": "8995ddfa",
    "outputId": "9277cbed-d4fb-4ac4-b0f2-4a9916cc3204"
   },
   "outputs": [
    {
     "data": {
      "text/plain": [
       "array([[21,  1],\n",
       "       [ 9, 14]], dtype=int64)"
      ]
     },
     "execution_count": 43,
     "metadata": {},
     "output_type": "execute_result"
    }
   ],
   "source": [
    "from sklearn.metrics import classification_report, confusion_matrix\n",
    "\n",
    "confusion_matrix(y_test, y_pred)"
   ]
  },
  {
   "cell_type": "code",
   "execution_count": 44,
   "id": "130e6130",
   "metadata": {
    "colab": {
     "base_uri": "https://localhost:8080/"
    },
    "id": "130e6130",
    "outputId": "80a2fc03-c665-4585-c709-b2abb6980e98"
   },
   "outputs": [
    {
     "name": "stdout",
     "output_type": "stream",
     "text": [
      "              precision    recall  f1-score   support\n",
      "\n",
      "        -1.0       0.70      0.95      0.81        22\n",
      "         1.0       0.93      0.61      0.74        23\n",
      "\n",
      "    accuracy                           0.78        45\n",
      "   macro avg       0.82      0.78      0.77        45\n",
      "weighted avg       0.82      0.78      0.77        45\n",
      "\n"
     ]
    }
   ],
   "source": [
    "print(classification_report(y_test, y_pred))\n"
   ]
  },
  {
   "cell_type": "code",
   "execution_count": 45,
   "id": "fa8c2723",
   "metadata": {
    "colab": {
     "base_uri": "https://localhost:8080/"
    },
    "id": "fa8c2723",
    "outputId": "4ac7eebc-fb81-4a11-df64-2624a30b3eb1"
   },
   "outputs": [
    {
     "data": {
      "text/plain": [
       "array([[145,  79],\n",
       "       [ 61, 111]], dtype=int64)"
      ]
     },
     "execution_count": 45,
     "metadata": {},
     "output_type": "execute_result"
    }
   ],
   "source": [
    "# get the confusion matrix for train set\n",
    "\n",
    "y_p=dex.predict(X_train)\n",
    "\n",
    "confusion_matrix(y_train,y_p )\n"
   ]
  },
  {
   "cell_type": "code",
   "execution_count": 46,
   "id": "ded74f8e",
   "metadata": {
    "colab": {
     "base_uri": "https://localhost:8080/"
    },
    "id": "ded74f8e",
    "outputId": "e375c763-0e48-4e77-d023-6bc847dd719f"
   },
   "outputs": [
    {
     "name": "stdout",
     "output_type": "stream",
     "text": [
      "The accuracy of the SVC Model in Test Set is: 0.778\n",
      "The accuracy of the SVC Model in Train Set is: 0.646\n"
     ]
    }
   ],
   "source": [
    "ac=accuracy_score(y_test, y_pred)\n",
    "\n",
    "bc=accuracy_score(y_train, y_p)\n",
    "\n",
    "print('The accuracy of the SVC Model in Test Set is: %.3f' % (ac))\n",
    "\n",
    "print('The accuracy of the SVC Model in Train Set is: %.3f' % (bc))\n"
   ]
  },
  {
   "cell_type": "code",
   "execution_count": 47,
   "id": "e9c6c284",
   "metadata": {
    "colab": {
     "base_uri": "https://localhost:8080/"
    },
    "id": "e9c6c284",
    "outputId": "42a8ae8f-e5cc-4766-f23b-4bc5e3d86f28"
   },
   "outputs": [
    {
     "name": "stdout",
     "output_type": "stream",
     "text": [
      "Fitting 5 folds for each of 32 candidates, totalling 160 fits\n",
      "[CV] END ........................C=1, gamma=1, kernel=linear; total time=   0.0s\n",
      "[CV] END ........................C=1, gamma=1, kernel=linear; total time=   0.0s\n",
      "[CV] END ........................C=1, gamma=1, kernel=linear; total time=   0.0s\n",
      "[CV] END ........................C=1, gamma=1, kernel=linear; total time=   0.0s\n",
      "[CV] END ........................C=1, gamma=1, kernel=linear; total time=   0.0s\n",
      "[CV] END ...........................C=1, gamma=1, kernel=rbf; total time=   0.0s\n",
      "[CV] END ...........................C=1, gamma=1, kernel=rbf; total time=   0.0s\n",
      "[CV] END ...........................C=1, gamma=1, kernel=rbf; total time=   0.0s\n",
      "[CV] END ...........................C=1, gamma=1, kernel=rbf; total time=   0.0s\n",
      "[CV] END ...........................C=1, gamma=1, kernel=rbf; total time=   0.0s\n",
      "[CV] END ......................C=1, gamma=0.1, kernel=linear; total time=   0.0s\n",
      "[CV] END ......................C=1, gamma=0.1, kernel=linear; total time=   0.0s\n",
      "[CV] END ......................C=1, gamma=0.1, kernel=linear; total time=   0.0s\n",
      "[CV] END ......................C=1, gamma=0.1, kernel=linear; total time=   0.0s\n",
      "[CV] END ......................C=1, gamma=0.1, kernel=linear; total time=   0.0s\n",
      "[CV] END .........................C=1, gamma=0.1, kernel=rbf; total time=   0.0s\n",
      "[CV] END .........................C=1, gamma=0.1, kernel=rbf; total time=   0.0s\n",
      "[CV] END .........................C=1, gamma=0.1, kernel=rbf; total time=   0.0s\n",
      "[CV] END .........................C=1, gamma=0.1, kernel=rbf; total time=   0.0s\n",
      "[CV] END .........................C=1, gamma=0.1, kernel=rbf; total time=   0.0s\n",
      "[CV] END ....................C=1, gamma=0.001, kernel=linear; total time=   0.0s\n",
      "[CV] END ....................C=1, gamma=0.001, kernel=linear; total time=   0.0s\n",
      "[CV] END ....................C=1, gamma=0.001, kernel=linear; total time=   0.0s\n",
      "[CV] END ....................C=1, gamma=0.001, kernel=linear; total time=   0.0s\n",
      "[CV] END ....................C=1, gamma=0.001, kernel=linear; total time=   0.0s\n",
      "[CV] END .......................C=1, gamma=0.001, kernel=rbf; total time=   0.0s\n",
      "[CV] END .......................C=1, gamma=0.001, kernel=rbf; total time=   0.0s\n",
      "[CV] END .......................C=1, gamma=0.001, kernel=rbf; total time=   0.0s\n",
      "[CV] END .......................C=1, gamma=0.001, kernel=rbf; total time=   0.0s\n",
      "[CV] END .......................C=1, gamma=0.001, kernel=rbf; total time=   0.0s\n",
      "[CV] END ...................C=1, gamma=0.0001, kernel=linear; total time=   0.0s\n",
      "[CV] END ...................C=1, gamma=0.0001, kernel=linear; total time=   0.0s\n",
      "[CV] END ...................C=1, gamma=0.0001, kernel=linear; total time=   0.0s\n",
      "[CV] END ...................C=1, gamma=0.0001, kernel=linear; total time=   0.0s\n",
      "[CV] END ...................C=1, gamma=0.0001, kernel=linear; total time=   0.0s\n",
      "[CV] END ......................C=1, gamma=0.0001, kernel=rbf; total time=   0.0s\n",
      "[CV] END ......................C=1, gamma=0.0001, kernel=rbf; total time=   0.0s\n",
      "[CV] END ......................C=1, gamma=0.0001, kernel=rbf; total time=   0.0s\n",
      "[CV] END ......................C=1, gamma=0.0001, kernel=rbf; total time=   0.0s\n",
      "[CV] END ......................C=1, gamma=0.0001, kernel=rbf; total time=   0.0s\n",
      "[CV] END .......................C=10, gamma=1, kernel=linear; total time=   0.0s\n",
      "[CV] END .......................C=10, gamma=1, kernel=linear; total time=   0.0s\n",
      "[CV] END .......................C=10, gamma=1, kernel=linear; total time=   0.0s\n",
      "[CV] END .......................C=10, gamma=1, kernel=linear; total time=   0.0s\n",
      "[CV] END .......................C=10, gamma=1, kernel=linear; total time=   0.0s\n",
      "[CV] END ..........................C=10, gamma=1, kernel=rbf; total time=   0.0s\n",
      "[CV] END ..........................C=10, gamma=1, kernel=rbf; total time=   0.0s\n",
      "[CV] END ..........................C=10, gamma=1, kernel=rbf; total time=   0.0s\n",
      "[CV] END ..........................C=10, gamma=1, kernel=rbf; total time=   0.0s\n",
      "[CV] END ..........................C=10, gamma=1, kernel=rbf; total time=   0.0s\n",
      "[CV] END .....................C=10, gamma=0.1, kernel=linear; total time=   0.0s\n",
      "[CV] END .....................C=10, gamma=0.1, kernel=linear; total time=   0.0s\n",
      "[CV] END .....................C=10, gamma=0.1, kernel=linear; total time=   0.0s\n",
      "[CV] END .....................C=10, gamma=0.1, kernel=linear; total time=   0.0s\n",
      "[CV] END .....................C=10, gamma=0.1, kernel=linear; total time=   0.0s\n",
      "[CV] END ........................C=10, gamma=0.1, kernel=rbf; total time=   0.0s\n",
      "[CV] END ........................C=10, gamma=0.1, kernel=rbf; total time=   0.0s\n",
      "[CV] END ........................C=10, gamma=0.1, kernel=rbf; total time=   0.0s\n",
      "[CV] END ........................C=10, gamma=0.1, kernel=rbf; total time=   0.0s\n",
      "[CV] END ........................C=10, gamma=0.1, kernel=rbf; total time=   0.0s\n",
      "[CV] END ...................C=10, gamma=0.001, kernel=linear; total time=   0.0s\n",
      "[CV] END ...................C=10, gamma=0.001, kernel=linear; total time=   0.0s\n",
      "[CV] END ...................C=10, gamma=0.001, kernel=linear; total time=   0.0s\n",
      "[CV] END ...................C=10, gamma=0.001, kernel=linear; total time=   0.0s\n",
      "[CV] END ...................C=10, gamma=0.001, kernel=linear; total time=   0.0s\n",
      "[CV] END ......................C=10, gamma=0.001, kernel=rbf; total time=   0.0s\n",
      "[CV] END ......................C=10, gamma=0.001, kernel=rbf; total time=   0.0s\n",
      "[CV] END ......................C=10, gamma=0.001, kernel=rbf; total time=   0.0s\n",
      "[CV] END ......................C=10, gamma=0.001, kernel=rbf; total time=   0.0s\n",
      "[CV] END ......................C=10, gamma=0.001, kernel=rbf; total time=   0.0s\n",
      "[CV] END ..................C=10, gamma=0.0001, kernel=linear; total time=   0.0s\n",
      "[CV] END ..................C=10, gamma=0.0001, kernel=linear; total time=   0.0s\n",
      "[CV] END ..................C=10, gamma=0.0001, kernel=linear; total time=   0.0s\n",
      "[CV] END ..................C=10, gamma=0.0001, kernel=linear; total time=   0.0s\n",
      "[CV] END ..................C=10, gamma=0.0001, kernel=linear; total time=   0.0s\n",
      "[CV] END .....................C=10, gamma=0.0001, kernel=rbf; total time=   0.0s\n",
      "[CV] END .....................C=10, gamma=0.0001, kernel=rbf; total time=   0.0s\n",
      "[CV] END .....................C=10, gamma=0.0001, kernel=rbf; total time=   0.0s\n",
      "[CV] END .....................C=10, gamma=0.0001, kernel=rbf; total time=   0.0s\n",
      "[CV] END .....................C=10, gamma=0.0001, kernel=rbf; total time=   0.0s\n",
      "[CV] END ......................C=100, gamma=1, kernel=linear; total time=   0.0s\n",
      "[CV] END ......................C=100, gamma=1, kernel=linear; total time=   0.0s\n",
      "[CV] END ......................C=100, gamma=1, kernel=linear; total time=   0.0s\n",
      "[CV] END ......................C=100, gamma=1, kernel=linear; total time=   0.0s\n",
      "[CV] END ......................C=100, gamma=1, kernel=linear; total time=   0.0s\n",
      "[CV] END .........................C=100, gamma=1, kernel=rbf; total time=   0.0s\n",
      "[CV] END .........................C=100, gamma=1, kernel=rbf; total time=   0.0s\n",
      "[CV] END .........................C=100, gamma=1, kernel=rbf; total time=   0.0s\n",
      "[CV] END .........................C=100, gamma=1, kernel=rbf; total time=   0.0s\n",
      "[CV] END .........................C=100, gamma=1, kernel=rbf; total time=   0.0s\n",
      "[CV] END ....................C=100, gamma=0.1, kernel=linear; total time=   0.0s\n",
      "[CV] END ....................C=100, gamma=0.1, kernel=linear; total time=   0.0s\n",
      "[CV] END ....................C=100, gamma=0.1, kernel=linear; total time=   0.0s\n",
      "[CV] END ....................C=100, gamma=0.1, kernel=linear; total time=   0.0s\n",
      "[CV] END ....................C=100, gamma=0.1, kernel=linear; total time=   0.0s\n",
      "[CV] END .......................C=100, gamma=0.1, kernel=rbf; total time=   0.0s\n",
      "[CV] END .......................C=100, gamma=0.1, kernel=rbf; total time=   0.0s\n",
      "[CV] END .......................C=100, gamma=0.1, kernel=rbf; total time=   0.0s\n",
      "[CV] END .......................C=100, gamma=0.1, kernel=rbf; total time=   0.0s\n",
      "[CV] END .......................C=100, gamma=0.1, kernel=rbf; total time=   0.0s\n",
      "[CV] END ..................C=100, gamma=0.001, kernel=linear; total time=   0.0s\n",
      "[CV] END ..................C=100, gamma=0.001, kernel=linear; total time=   0.0s\n",
      "[CV] END ..................C=100, gamma=0.001, kernel=linear; total time=   0.0s\n",
      "[CV] END ..................C=100, gamma=0.001, kernel=linear; total time=   0.0s\n",
      "[CV] END ..................C=100, gamma=0.001, kernel=linear; total time=   0.0s\n",
      "[CV] END .....................C=100, gamma=0.001, kernel=rbf; total time=   0.0s\n",
      "[CV] END .....................C=100, gamma=0.001, kernel=rbf; total time=   0.0s\n",
      "[CV] END .....................C=100, gamma=0.001, kernel=rbf; total time=   0.0s\n",
      "[CV] END .....................C=100, gamma=0.001, kernel=rbf; total time=   0.0s\n",
      "[CV] END .....................C=100, gamma=0.001, kernel=rbf; total time=   0.0s\n",
      "[CV] END .................C=100, gamma=0.0001, kernel=linear; total time=   0.0s\n",
      "[CV] END .................C=100, gamma=0.0001, kernel=linear; total time=   0.0s\n",
      "[CV] END .................C=100, gamma=0.0001, kernel=linear; total time=   0.0s\n",
      "[CV] END .................C=100, gamma=0.0001, kernel=linear; total time=   0.0s\n",
      "[CV] END .................C=100, gamma=0.0001, kernel=linear; total time=   0.0s\n",
      "[CV] END ....................C=100, gamma=0.0001, kernel=rbf; total time=   0.0s\n",
      "[CV] END ....................C=100, gamma=0.0001, kernel=rbf; total time=   0.0s\n",
      "[CV] END ....................C=100, gamma=0.0001, kernel=rbf; total time=   0.0s\n",
      "[CV] END ....................C=100, gamma=0.0001, kernel=rbf; total time=   0.0s\n",
      "[CV] END ....................C=100, gamma=0.0001, kernel=rbf; total time=   0.0s\n",
      "[CV] END .....................C=1000, gamma=1, kernel=linear; total time=   0.0s\n",
      "[CV] END .....................C=1000, gamma=1, kernel=linear; total time=   0.0s\n",
      "[CV] END .....................C=1000, gamma=1, kernel=linear; total time=   0.0s\n",
      "[CV] END .....................C=1000, gamma=1, kernel=linear; total time=   0.0s\n",
      "[CV] END .....................C=1000, gamma=1, kernel=linear; total time=   0.0s\n",
      "[CV] END ........................C=1000, gamma=1, kernel=rbf; total time=   0.0s\n",
      "[CV] END ........................C=1000, gamma=1, kernel=rbf; total time=   0.0s\n",
      "[CV] END ........................C=1000, gamma=1, kernel=rbf; total time=   0.0s\n",
      "[CV] END ........................C=1000, gamma=1, kernel=rbf; total time=   0.0s\n",
      "[CV] END ........................C=1000, gamma=1, kernel=rbf; total time=   0.0s\n",
      "[CV] END ...................C=1000, gamma=0.1, kernel=linear; total time=   0.0s\n",
      "[CV] END ...................C=1000, gamma=0.1, kernel=linear; total time=   0.0s\n",
      "[CV] END ...................C=1000, gamma=0.1, kernel=linear; total time=   0.0s\n",
      "[CV] END ...................C=1000, gamma=0.1, kernel=linear; total time=   0.0s\n",
      "[CV] END ...................C=1000, gamma=0.1, kernel=linear; total time=   0.0s\n",
      "[CV] END ......................C=1000, gamma=0.1, kernel=rbf; total time=   0.0s\n",
      "[CV] END ......................C=1000, gamma=0.1, kernel=rbf; total time=   0.0s\n",
      "[CV] END ......................C=1000, gamma=0.1, kernel=rbf; total time=   0.0s\n",
      "[CV] END ......................C=1000, gamma=0.1, kernel=rbf; total time=   0.0s\n",
      "[CV] END ......................C=1000, gamma=0.1, kernel=rbf; total time=   0.0s\n",
      "[CV] END .................C=1000, gamma=0.001, kernel=linear; total time=   0.0s\n",
      "[CV] END .................C=1000, gamma=0.001, kernel=linear; total time=   0.0s\n",
      "[CV] END .................C=1000, gamma=0.001, kernel=linear; total time=   0.0s\n",
      "[CV] END .................C=1000, gamma=0.001, kernel=linear; total time=   0.0s\n",
      "[CV] END .................C=1000, gamma=0.001, kernel=linear; total time=   0.0s\n",
      "[CV] END ....................C=1000, gamma=0.001, kernel=rbf; total time=   0.0s\n",
      "[CV] END ....................C=1000, gamma=0.001, kernel=rbf; total time=   0.0s\n",
      "[CV] END ....................C=1000, gamma=0.001, kernel=rbf; total time=   0.0s\n",
      "[CV] END ....................C=1000, gamma=0.001, kernel=rbf; total time=   0.0s\n",
      "[CV] END ....................C=1000, gamma=0.001, kernel=rbf; total time=   0.0s\n",
      "[CV] END ................C=1000, gamma=0.0001, kernel=linear; total time=   0.0s\n",
      "[CV] END ................C=1000, gamma=0.0001, kernel=linear; total time=   0.0s\n",
      "[CV] END ................C=1000, gamma=0.0001, kernel=linear; total time=   0.0s\n",
      "[CV] END ................C=1000, gamma=0.0001, kernel=linear; total time=   0.0s\n",
      "[CV] END ................C=1000, gamma=0.0001, kernel=linear; total time=   0.0s\n",
      "[CV] END ...................C=1000, gamma=0.0001, kernel=rbf; total time=   0.0s\n",
      "[CV] END ...................C=1000, gamma=0.0001, kernel=rbf; total time=   0.0s\n",
      "[CV] END ...................C=1000, gamma=0.0001, kernel=rbf; total time=   0.0s\n",
      "[CV] END ...................C=1000, gamma=0.0001, kernel=rbf; total time=   0.0s\n",
      "[CV] END ...................C=1000, gamma=0.0001, kernel=rbf; total time=   0.0s\n"
     ]
    },
    {
     "data": {
      "text/html": [
       "<style>#sk-container-id-1 {color: black;}#sk-container-id-1 pre{padding: 0;}#sk-container-id-1 div.sk-toggleable {background-color: white;}#sk-container-id-1 label.sk-toggleable__label {cursor: pointer;display: block;width: 100%;margin-bottom: 0;padding: 0.3em;box-sizing: border-box;text-align: center;}#sk-container-id-1 label.sk-toggleable__label-arrow:before {content: \"▸\";float: left;margin-right: 0.25em;color: #696969;}#sk-container-id-1 label.sk-toggleable__label-arrow:hover:before {color: black;}#sk-container-id-1 div.sk-estimator:hover label.sk-toggleable__label-arrow:before {color: black;}#sk-container-id-1 div.sk-toggleable__content {max-height: 0;max-width: 0;overflow: hidden;text-align: left;background-color: #f0f8ff;}#sk-container-id-1 div.sk-toggleable__content pre {margin: 0.2em;color: black;border-radius: 0.25em;background-color: #f0f8ff;}#sk-container-id-1 input.sk-toggleable__control:checked~div.sk-toggleable__content {max-height: 200px;max-width: 100%;overflow: auto;}#sk-container-id-1 input.sk-toggleable__control:checked~label.sk-toggleable__label-arrow:before {content: \"▾\";}#sk-container-id-1 div.sk-estimator input.sk-toggleable__control:checked~label.sk-toggleable__label {background-color: #d4ebff;}#sk-container-id-1 div.sk-label input.sk-toggleable__control:checked~label.sk-toggleable__label {background-color: #d4ebff;}#sk-container-id-1 input.sk-hidden--visually {border: 0;clip: rect(1px 1px 1px 1px);clip: rect(1px, 1px, 1px, 1px);height: 1px;margin: -1px;overflow: hidden;padding: 0;position: absolute;width: 1px;}#sk-container-id-1 div.sk-estimator {font-family: monospace;background-color: #f0f8ff;border: 1px dotted black;border-radius: 0.25em;box-sizing: border-box;margin-bottom: 0.5em;}#sk-container-id-1 div.sk-estimator:hover {background-color: #d4ebff;}#sk-container-id-1 div.sk-parallel-item::after {content: \"\";width: 100%;border-bottom: 1px solid gray;flex-grow: 1;}#sk-container-id-1 div.sk-label:hover label.sk-toggleable__label {background-color: #d4ebff;}#sk-container-id-1 div.sk-serial::before {content: \"\";position: absolute;border-left: 1px solid gray;box-sizing: border-box;top: 0;bottom: 0;left: 50%;z-index: 0;}#sk-container-id-1 div.sk-serial {display: flex;flex-direction: column;align-items: center;background-color: white;padding-right: 0.2em;padding-left: 0.2em;position: relative;}#sk-container-id-1 div.sk-item {position: relative;z-index: 1;}#sk-container-id-1 div.sk-parallel {display: flex;align-items: stretch;justify-content: center;background-color: white;position: relative;}#sk-container-id-1 div.sk-item::before, #sk-container-id-1 div.sk-parallel-item::before {content: \"\";position: absolute;border-left: 1px solid gray;box-sizing: border-box;top: 0;bottom: 0;left: 50%;z-index: -1;}#sk-container-id-1 div.sk-parallel-item {display: flex;flex-direction: column;z-index: 1;position: relative;background-color: white;}#sk-container-id-1 div.sk-parallel-item:first-child::after {align-self: flex-end;width: 50%;}#sk-container-id-1 div.sk-parallel-item:last-child::after {align-self: flex-start;width: 50%;}#sk-container-id-1 div.sk-parallel-item:only-child::after {width: 0;}#sk-container-id-1 div.sk-dashed-wrapped {border: 1px dashed gray;margin: 0 0.4em 0.5em 0.4em;box-sizing: border-box;padding-bottom: 0.4em;background-color: white;}#sk-container-id-1 div.sk-label label {font-family: monospace;font-weight: bold;display: inline-block;line-height: 1.2em;}#sk-container-id-1 div.sk-label-container {text-align: center;}#sk-container-id-1 div.sk-container {/* jupyter's `normalize.less` sets `[hidden] { display: none; }` but bootstrap.min.css set `[hidden] { display: none !important; }` so we also need the `!important` here to be able to override the default hidden behavior on the sphinx rendered scikit-learn.org. See: https://github.com/scikit-learn/scikit-learn/issues/21755 */display: inline-block !important;position: relative;}#sk-container-id-1 div.sk-text-repr-fallback {display: none;}</style><div id=\"sk-container-id-1\" class=\"sk-top-container\"><div class=\"sk-text-repr-fallback\"><pre>GridSearchCV(estimator=SVC(),\n",
       "             param_grid={&#x27;C&#x27;: [1, 10, 100, 1000],\n",
       "                         &#x27;gamma&#x27;: [1, 0.1, 0.001, 0.0001],\n",
       "                         &#x27;kernel&#x27;: [&#x27;linear&#x27;, &#x27;rbf&#x27;]},\n",
       "             verbose=2)</pre><b>In a Jupyter environment, please rerun this cell to show the HTML representation or trust the notebook. <br />On GitHub, the HTML representation is unable to render, please try loading this page with nbviewer.org.</b></div><div class=\"sk-container\" hidden><div class=\"sk-item sk-dashed-wrapped\"><div class=\"sk-label-container\"><div class=\"sk-label sk-toggleable\"><input class=\"sk-toggleable__control sk-hidden--visually\" id=\"sk-estimator-id-1\" type=\"checkbox\" ><label for=\"sk-estimator-id-1\" class=\"sk-toggleable__label sk-toggleable__label-arrow\">GridSearchCV</label><div class=\"sk-toggleable__content\"><pre>GridSearchCV(estimator=SVC(),\n",
       "             param_grid={&#x27;C&#x27;: [1, 10, 100, 1000],\n",
       "                         &#x27;gamma&#x27;: [1, 0.1, 0.001, 0.0001],\n",
       "                         &#x27;kernel&#x27;: [&#x27;linear&#x27;, &#x27;rbf&#x27;]},\n",
       "             verbose=2)</pre></div></div></div><div class=\"sk-parallel\"><div class=\"sk-parallel-item\"><div class=\"sk-item\"><div class=\"sk-label-container\"><div class=\"sk-label sk-toggleable\"><input class=\"sk-toggleable__control sk-hidden--visually\" id=\"sk-estimator-id-2\" type=\"checkbox\" ><label for=\"sk-estimator-id-2\" class=\"sk-toggleable__label sk-toggleable__label-arrow\">estimator: SVC</label><div class=\"sk-toggleable__content\"><pre>SVC()</pre></div></div></div><div class=\"sk-serial\"><div class=\"sk-item\"><div class=\"sk-estimator sk-toggleable\"><input class=\"sk-toggleable__control sk-hidden--visually\" id=\"sk-estimator-id-3\" type=\"checkbox\" ><label for=\"sk-estimator-id-3\" class=\"sk-toggleable__label sk-toggleable__label-arrow\">SVC</label><div class=\"sk-toggleable__content\"><pre>SVC()</pre></div></div></div></div></div></div></div></div></div></div>"
      ],
      "text/plain": [
       "GridSearchCV(estimator=SVC(),\n",
       "             param_grid={'C': [1, 10, 100, 1000],\n",
       "                         'gamma': [1, 0.1, 0.001, 0.0001],\n",
       "                         'kernel': ['linear', 'rbf']},\n",
       "             verbose=2)"
      ]
     },
     "execution_count": 47,
     "metadata": {},
     "output_type": "execute_result"
    }
   ],
   "source": [
    "# now look for better parameter combination\n",
    "\n",
    "from sklearn.model_selection import GridSearchCV\n",
    "\n",
    "# the rangne of parameter to check\n",
    "\n",
    "param_grid = {'C':[1,10,100,1000],'gamma':[1,0.1,0.001,0.0001], 'kernel':['linear','rbf']}\n",
    "# search over the provided range\n",
    "\n",
    "grid = GridSearchCV(SVC(),param_grid,refit = True, verbose=2)\n",
    "\n",
    "# fit the model with best parameter set\n",
    "\n",
    "grid.fit(X_train,y_train)\n",
    "\n",
    "GridSearchCV(cv=None, #error_score=nan,\n",
    "\n",
    "        estimator=SVC(C=1.0, break_ties=False, cache_size=200,\n",
    "\n",
    "                  class_weight=None, coef0=0.0,\n",
    "\n",
    "                  decision_function_shape='ovr', degree=3,\n",
    "\n",
    "                  gamma='scale', kernel='rbf', max_iter=-1,\n",
    "\n",
    "                  probability=False, random_state=None, shrinking=True,\n",
    "\n",
    "                  tol=0.001, verbose=False),\n",
    "             \n",
    "              n_jobs=None,\n",
    "\n",
    "        param_grid={'C': [1, 10, 100, 1000],\n",
    "\n",
    "                'gamma': [1, 0.1, 0.001, 0.0001],\n",
    "\n",
    "                'kernel': ['linear', 'rbf']},\n",
    "\n",
    "        pre_dispatch='2*n_jobs', refit=True, return_train_score=False,\n",
    "\n",
    "        scoring=None, verbose=2)"
   ]
  },
  {
   "cell_type": "code",
   "execution_count": 48,
   "id": "346ebe12",
   "metadata": {
    "id": "346ebe12"
   },
   "outputs": [],
   "source": [
    "predic = grid.predict(X_test)"
   ]
  },
  {
   "cell_type": "code",
   "execution_count": 49,
   "id": "844f7b4f",
   "metadata": {
    "colab": {
     "base_uri": "https://localhost:8080/"
    },
    "id": "844f7b4f",
    "outputId": "67d827cd-2de3-4219-9fba-3567aa49b213"
   },
   "outputs": [
    {
     "name": "stdout",
     "output_type": "stream",
     "text": [
      "              precision    recall  f1-score   support\n",
      "\n",
      "        -1.0       0.46      0.86      0.60        22\n",
      "         1.0       0.25      0.04      0.07        23\n",
      "\n",
      "    accuracy                           0.44        45\n",
      "   macro avg       0.36      0.45      0.34        45\n",
      "weighted avg       0.35      0.44      0.33        45\n",
      "\n"
     ]
    }
   ],
   "source": [
    "print(classification_report(y_test,predic))\n"
   ]
  },
  {
   "cell_type": "code",
   "execution_count": 50,
   "id": "e81233c1",
   "metadata": {
    "colab": {
     "base_uri": "https://localhost:8080/"
    },
    "id": "e81233c1",
    "outputId": "8ae9fdce-6c21-4473-b5ad-b682f661e23f"
   },
   "outputs": [
    {
     "name": "stdout",
     "output_type": "stream",
     "text": [
      "0.5111111111111111\n",
      "The accuracy of the Logistic Regression Model in Test Set is: 0.511\n"
     ]
    }
   ],
   "source": [
    "from sklearn.linear_model import LogisticRegression\n",
    "\n",
    "lr=LogisticRegression()\n",
    "\n",
    "lr.fit(X_train,y_train)\n",
    "\n",
    "lr_pred=lr.predict(X_test)\n",
    "\n",
    "\n",
    "print(lr.score(X_test,y_test))\n",
    "\n",
    "lr_acc=lr.score(X_test,y_test)\n",
    "print('The accuracy of the Logistic Regression Model in Test Set is: %.3f' % (lr_acc))\n",
    "\n"
   ]
  },
  {
   "cell_type": "code",
   "execution_count": 51,
   "id": "dd9fa363",
   "metadata": {
    "colab": {
     "base_uri": "https://localhost:8080/"
    },
    "id": "dd9fa363",
    "outputId": "0365d34d-2fca-4cd1-86cc-a5f61866af57"
   },
   "outputs": [
    {
     "name": "stdout",
     "output_type": "stream",
     "text": [
      "0.37777777777777777\n",
      "The accuracy of the Random Forest Model in Test Set is: 0.378\n"
     ]
    }
   ],
   "source": [
    "\n",
    "from sklearn.ensemble import RandomForestClassifier\n",
    "\n",
    "rf = RandomForestClassifier(n_estimators=100)\n",
    "\n",
    "rf.fit(X_train,y_train.values.ravel())\n",
    "\n",
    "rf_pred=rf.predict(X_test)\n",
    "\n",
    "print(rf.score(X_test,y_test))\n",
    "\n",
    "rf_acc=rf.score(X_test,y_test)\n",
    "print('The accuracy of the Random Forest Model in Test Set is: %.3f' % (rf_acc))\n"
   ]
  },
  {
   "cell_type": "code",
   "execution_count": 52,
   "id": "fec6a3e4",
   "metadata": {
    "colab": {
     "base_uri": "https://localhost:8080/",
     "height": 452
    },
    "id": "fec6a3e4",
    "outputId": "bdb64064-b489-4566-fccd-832b6553ae13"
   },
   "outputs": [
    {
     "data": {
      "image/png": "[encoded data removed]",
      "text/plain": [
       "<Figure size 640x480 with 1 Axes>"
      ]
     },
     "metadata": {},
     "output_type": "display_data"
    }
   ],
   "source": [
    "import matplotlib.pyplot as plt; plt.rcdefaults()\n",
    "\n",
    "import numpy as np\n",
    "\n",
    "import matplotlib.pyplot as plt\n",
    "\n",
    "objects = ('Random Forest','SVM','Logistic Regression')\n",
    "\n",
    "y_pos = np.arange(len(objects))\n",
    "\n",
    "performance = [rf_acc,ac,lr_acc]\n",
    "\n",
    "plt.bar(y_pos, performance, align='center', alpha=0.5)\n",
    "\n",
    "plt.xticks(y_pos, objects)\n",
    "\n",
    "plt.ylabel('Rated')\n",
    "\n",
    "plt.title('Algorithm Performance')\n",
    "\n",
    "plt.show()\n"
   ]
  }
 ],
 "metadata": {
  "colab": {
   "provenance": []
  },
  "kernelspec": {
   "display_name": "Python 3 (ipykernel)",
   "language": "python",
   "name": "python3"
  },
  "language_info": {
   "codemirror_mode": {
    "name": "ipython",
    "version": 3
   },
   "file_extension": ".py",
   "mimetype": "text/x-python",
   "name": "python",
   "nbconvert_exporter": "python",
   "pygments_lexer": "ipython3",
   "version": "3.9.13"
  }
 },
 "nbformat": 4,
 "nbformat_minor": 5
}
